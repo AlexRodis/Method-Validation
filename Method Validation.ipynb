{
 "cells": [
  {
   "cell_type": "markdown",
   "id": "94753a07-9324-4b9e-894f-92ba5fdaae81",
   "metadata": {},
   "source": [
    "# Μεταπτυχιακό Μάθημα \"Διασφάλιση Ποιότητας\"\n",
    "## Άσκηση ΜΚ-04: \"Επικύρωση Μεθόδου\"\n",
    "||||||\n",
    "-----|-----|-------|------|-------\n",
    "**Ονοματεπώνυμο:**|**Αλέξανδρος Ρόδης**||**Αριθμός Μητρώου:**|**202218**\n",
    "**Μεταπτυχιακό Πρόγραμμα:**|**Αναλυτική Χημεία - Διασφάλιση Ποιότητας**\n",
    "\n",
    "\n",
    "(Τα αποτελέσματα να συμπληρωθούν  στους πίνακες και τα διαγράμματα / εκτυπώσεις να επισυναφθούν).\n",
    "Για την επικύρωση μεθόδου προσδιορισμού $Hg$ σε ψάρια με την τεχνική φασματομετρίας ατομικής απορρόφησης  - παραγωγής υδριδίων έγιναν  τα παρακάτω πειράματα και πάρθηκαν τα εξής αποτελέσματα.\n",
    "\n",
    "## Καμπύλη Βαθμονόμησης Οργάνου - Γραμμικότητα\n",
    "\n",
    "Χρησιμοποιήθηκε το όργανο: Φασματόμετρο Ατομικής Απορρόφησης, Perkin-Elmer 4110 ZL με σύστημα υδριδίων  FIAS – 400 (Flow Injection – Atomic Spectrometer), με αριθμό AAS-02. Παρασκευάσθηκε σειρά προτύπων διαλυμάτων Hg (0 – 20,0 μg/L ή $(^{ng}/_{mL})$ σε αραιό διάλυμα $HNO_3$ και μετρήθηκε εις τριπλούν το ύψος των κορυφών απορρόφησης  $(A_i)$ σε μονάδες απορρόφησης. Πάρθηκαν τα  αποτελέσματα του παρακάτω πίνακα:"
   ]
  },
  {
   "cell_type": "code",
   "execution_count": 52,
   "id": "c8acde2a-6202-4cb1-801b-edcd05064fff",
   "metadata": {},
   "outputs": [
    {
     "data": {
      "text/html": [
       "\n",
       "<style>\n",
       ".output_png {\n",
       "    display: table-cell;\n",
       "    text-align: center;\n",
       "    vertical-align: middle;\n",
       "}\n",
       "</style>\n"
      ],
      "text/plain": [
       "<IPython.core.display.HTML object>"
      ]
     },
     "execution_count": 52,
     "metadata": {},
     "output_type": "execute_result"
    }
   ],
   "source": [
    "from openpyxl import load_workbook\n",
    "import pandas as pd\n",
    "import numpy as np\n",
    "from matplotlib import pyplot as plt\n",
    "from statistics import mean, stdev\n",
    "import statsmodels.api as sm\n",
    "from statsmodels.formula.api import ols\n",
    "from math import sqrt,log\n",
    "import scipy.stats as stats\n",
    "from IPython import display\n",
    "import pingouin as pg\n",
    "import warnings\n",
    "from collections import namedtuple\n",
    "from typing import Union,Optional\n",
    "\n",
    "warnings.filterwarnings('ignore')\n",
    "\n",
    "# Display settings\n",
    "plt.rcParams['figure.figsize'] = [20,6]\n",
    "plt.rcParams['figure.dpi'] = 125 # 200 e.g. is really fine, but slower\n",
    "\n",
    "# Styling \n",
    "from IPython.core.display import HTML\n",
    "def css_styling():\n",
    "    styles = open(\"custom.css\", \"r\").read() #or edit path to custom.css\n",
    "    return HTML(styles)\n",
    "css_styling()\n",
    "\n",
    "from IPython.core.display import HTML\n",
    "HTML(\"\"\"\n",
    "<style>\n",
    ".output_png {\n",
    "    display: table-cell;\n",
    "    text-align: center;\n",
    "    vertical-align: middle;\n",
    "}\n",
    "</style>\n",
    "\"\"\")"
   ]
  },
  {
   "cell_type": "code",
   "execution_count": 53,
   "id": "2c6e2ce6-ab99-4d6b-a366-1ae880c63373",
   "metadata": {
    "tags": []
   },
   "outputs": [],
   "source": [
    "df1 = pd.read_csv(\"Άσκηση ΜΚ-04 - Επικύρωση Μεθόδου T-1 Γραμμικότητα.csv\", index_col = False)\n",
    "df1_head = df1.iloc[0]\n",
    "df1=df1[1:]\n",
    "df1.columns = df1_head\n",
    "df1.reset_index(inplace=True)\n",
    "df1 = df1.rename(columns = {'%Relative Standard Deviation.%RSD': '%Relative Standard Deviation (%RSD)',\n",
    "                           'Instrument Response-Curve Height (Ai)' : 'Instrument Response - Curve Height (Ai)'\n",
    "                           })\n",
    "                            \n",
    "q_param = namedtuple(\"QualityParameter\", [\"experimental\",\"legal_req\", \"conforms\"] )  \n",
    "f_results = {\n",
    "    \"LOD - Οργάνου (ng/mL)\":None,\n",
    "    \"LOQ - Οργάνου (ng/mL)\":None,\n",
    "    \"Γραμμικότητα - Συντελεστής Συσχέτησης\":None,\n",
    "    \"Επαναληψημότητα %RSDr\":None,\n",
    "    \"Ενδιάμεση Πιστότητα %RSDR\":None,\n",
    "    \"Ακρίβεια - Πιστοποιημένο Υλικό Αναφοράς\":None,\n",
    "    \"Ακρίβεια - Πειράματα Ανάκτησης\":None,\n",
    "    \"Όριο Ανίχνευσης (LOD) - Μεθόδου\":None,\n",
    "    \"Όριο Ποσοτικοποίησης (LOD) - Μεθόδου\":None,\n",
    "    \"Πιστότητα - Δείκτης HORRAT\":None,\n",
    "}\n",
    "\n",
    "inpt = Union[str,float,None]\n",
    "\n",
    "def set_legal_param(res:str,exp:inpt,leg:inpt):\n",
    "    f_results[res] = q_param(float(exp),float(leg),float(exp)<=float(leg))"
   ]
  },
  {
   "cell_type": "code",
   "execution_count": 3,
   "id": "e8c8eadd-ff40-4e20-b692-7508def7145b",
   "metadata": {},
   "outputs": [],
   "source": [
    "# Data type cleanup \n",
    "df1.columns\n",
    "types = {\n",
    "       'Sample Number' : 'int16', \n",
    "       'Concentration [Hg] (ug/g)':'float32', \n",
    "       'Instrument Response - Curve Height (Ai)':'float32', \n",
    "       'Average':'float64',\n",
    "       'Standard Deviation (SD)':'float64', \n",
    "       '%Relative Standard Deviation (%RSD)':'float64'\n",
    "        }\n",
    "df1 = df1.astype(types)"
   ]
  },
  {
   "cell_type": "markdown",
   "id": "2002ca7f-56f2-4750-91e0-444a3d633828",
   "metadata": {},
   "source": [
    "Βασικές στατιστικές παράμετροι είναι ο μέσος όρος σημάτων, η τυπική απόκλιση (δείγματος) και τη σχετική τυπική απόκλιση:\n",
    "\n",
    "|||\n",
    "----|----\n",
    "Μέσος Όρος|$\\overline{x} = \\dfrac{\\sum_{i=0}^{N}{x_i}}{N}$\n",
    "Τυπική Απόκλιση|$s = \\sqrt{ \\dfrac{\\sum_{i=1}^N{(x_i-\\overline{x})^2}}{N-1} }$\n",
    "Σχετική Τυπική Απόκλιση|$\\%RSD = \\dfrac s{|\\overline{x}|}*100\\%$"
   ]
  },
  {
   "cell_type": "code",
   "execution_count": 4,
   "id": "67934367-1c45-43c9-b5c9-cdf6297ad398",
   "metadata": {
    "tags": []
   },
   "outputs": [],
   "source": [
    "for i, col in df1.iterrows():\n",
    "                 if i%3==0 or i==0:\n",
    "                     m = mean( [df1.loc[i,'Instrument Response - Curve Height (Ai)'],df1.loc[i+1,'Instrument Response - Curve Height (Ai)'],df1.loc[i+2,'Instrument Response - Curve Height (Ai)']]  )\n",
    "                     sd = df1.loc[i:i+2,'Instrument Response - Curve Height (Ai)'].std()\n",
    "                     df1.loc[i+1,'Average'] = m\n",
    "                     df1.loc[i+1, 'Standard Deviation (SD)'] = sd\n",
    "                     df1.loc[i+1, '%Relative Standard Deviation (%RSD)'] = sd/m*100"
   ]
  },
  {
   "cell_type": "markdown",
   "id": "0d9b4925-fa1e-4364-8ab5-dfc45febb08a",
   "metadata": {},
   "source": [
    "\n",
    "\n"
   ]
  },
  {
   "cell_type": "code",
   "execution_count": 5,
   "id": "72d44b13-78ad-4bc2-9f65-592826708bdf",
   "metadata": {
    "tags": []
   },
   "outputs": [
    {
     "data": {
      "text/html": [
       "<div>\n",
       "<style scoped>\n",
       "    .dataframe tbody tr th:only-of-type {\n",
       "        vertical-align: middle;\n",
       "    }\n",
       "\n",
       "    .dataframe tbody tr th {\n",
       "        vertical-align: top;\n",
       "    }\n",
       "\n",
       "    .dataframe thead th {\n",
       "        text-align: right;\n",
       "    }\n",
       "</style>\n",
       "<table border=\"1\" class=\"dataframe\">\n",
       "  <thead>\n",
       "    <tr style=\"text-align: right;\">\n",
       "      <th></th>\n",
       "      <th>index</th>\n",
       "      <th>Sample Number</th>\n",
       "      <th>Concentration [Hg] (ug/g)</th>\n",
       "      <th>Observation</th>\n",
       "      <th>Instrument Response - Curve Height (Ai)</th>\n",
       "      <th>Average</th>\n",
       "      <th>Standard Deviation (SD)</th>\n",
       "      <th>%Relative Standard Deviation (%RSD)</th>\n",
       "    </tr>\n",
       "  </thead>\n",
       "  <tbody>\n",
       "    <tr>\n",
       "      <th>0</th>\n",
       "      <td>1</td>\n",
       "      <td>1</td>\n",
       "      <td>0.0</td>\n",
       "      <td>White</td>\n",
       "      <td>0.0006</td>\n",
       "      <td>NaN</td>\n",
       "      <td>NaN</td>\n",
       "      <td>NaN</td>\n",
       "    </tr>\n",
       "    <tr>\n",
       "      <th>1</th>\n",
       "      <td>2</td>\n",
       "      <td>1</td>\n",
       "      <td>0.0</td>\n",
       "      <td>White</td>\n",
       "      <td>0.0007</td>\n",
       "      <td>0.0007</td>\n",
       "      <td>0.0001</td>\n",
       "      <td>14.29</td>\n",
       "    </tr>\n",
       "    <tr>\n",
       "      <th>2</th>\n",
       "      <td>3</td>\n",
       "      <td>1</td>\n",
       "      <td>0.0</td>\n",
       "      <td>White</td>\n",
       "      <td>0.0008</td>\n",
       "      <td>NaN</td>\n",
       "      <td>NaN</td>\n",
       "      <td>NaN</td>\n",
       "    </tr>\n",
       "    <tr>\n",
       "      <th>3</th>\n",
       "      <td>4</td>\n",
       "      <td>2</td>\n",
       "      <td>0.5</td>\n",
       "      <td>Curve</td>\n",
       "      <td>0.0074</td>\n",
       "      <td>NaN</td>\n",
       "      <td>NaN</td>\n",
       "      <td>NaN</td>\n",
       "    </tr>\n",
       "    <tr>\n",
       "      <th>4</th>\n",
       "      <td>5</td>\n",
       "      <td>2</td>\n",
       "      <td>0.5</td>\n",
       "      <td>Curve</td>\n",
       "      <td>0.0075</td>\n",
       "      <td>0.0075</td>\n",
       "      <td>0.0001</td>\n",
       "      <td>1.33</td>\n",
       "    </tr>\n",
       "    <tr>\n",
       "      <th>5</th>\n",
       "      <td>6</td>\n",
       "      <td>2</td>\n",
       "      <td>0.5</td>\n",
       "      <td>Curve</td>\n",
       "      <td>0.0076</td>\n",
       "      <td>NaN</td>\n",
       "      <td>NaN</td>\n",
       "      <td>NaN</td>\n",
       "    </tr>\n",
       "    <tr>\n",
       "      <th>6</th>\n",
       "      <td>7</td>\n",
       "      <td>3</td>\n",
       "      <td>2.5</td>\n",
       "      <td>Curve</td>\n",
       "      <td>0.0374</td>\n",
       "      <td>NaN</td>\n",
       "      <td>NaN</td>\n",
       "      <td>NaN</td>\n",
       "    </tr>\n",
       "    <tr>\n",
       "      <th>7</th>\n",
       "      <td>8</td>\n",
       "      <td>3</td>\n",
       "      <td>2.5</td>\n",
       "      <td>Curve</td>\n",
       "      <td>0.0373</td>\n",
       "      <td>0.0374</td>\n",
       "      <td>0.0001</td>\n",
       "      <td>0.27</td>\n",
       "    </tr>\n",
       "    <tr>\n",
       "      <th>8</th>\n",
       "      <td>9</td>\n",
       "      <td>3</td>\n",
       "      <td>2.5</td>\n",
       "      <td>Curve</td>\n",
       "      <td>0.0375</td>\n",
       "      <td>NaN</td>\n",
       "      <td>NaN</td>\n",
       "      <td>NaN</td>\n",
       "    </tr>\n",
       "    <tr>\n",
       "      <th>9</th>\n",
       "      <td>10</td>\n",
       "      <td>4</td>\n",
       "      <td>5.0</td>\n",
       "      <td>Curve</td>\n",
       "      <td>0.0754</td>\n",
       "      <td>NaN</td>\n",
       "      <td>NaN</td>\n",
       "      <td>NaN</td>\n",
       "    </tr>\n",
       "    <tr>\n",
       "      <th>10</th>\n",
       "      <td>11</td>\n",
       "      <td>4</td>\n",
       "      <td>5.0</td>\n",
       "      <td>Curve</td>\n",
       "      <td>0.0755</td>\n",
       "      <td>0.0754</td>\n",
       "      <td>0.0001</td>\n",
       "      <td>0.13</td>\n",
       "    </tr>\n",
       "    <tr>\n",
       "      <th>11</th>\n",
       "      <td>12</td>\n",
       "      <td>4</td>\n",
       "      <td>5.0</td>\n",
       "      <td>Curve</td>\n",
       "      <td>0.0753</td>\n",
       "      <td>NaN</td>\n",
       "      <td>NaN</td>\n",
       "      <td>NaN</td>\n",
       "    </tr>\n",
       "    <tr>\n",
       "      <th>12</th>\n",
       "      <td>13</td>\n",
       "      <td>5</td>\n",
       "      <td>7.5</td>\n",
       "      <td>Curve</td>\n",
       "      <td>0.1159</td>\n",
       "      <td>NaN</td>\n",
       "      <td>NaN</td>\n",
       "      <td>NaN</td>\n",
       "    </tr>\n",
       "    <tr>\n",
       "      <th>13</th>\n",
       "      <td>14</td>\n",
       "      <td>5</td>\n",
       "      <td>7.5</td>\n",
       "      <td>Curve</td>\n",
       "      <td>0.1157</td>\n",
       "      <td>0.1159</td>\n",
       "      <td>0.0002</td>\n",
       "      <td>0.17</td>\n",
       "    </tr>\n",
       "    <tr>\n",
       "      <th>14</th>\n",
       "      <td>15</td>\n",
       "      <td>5</td>\n",
       "      <td>7.5</td>\n",
       "      <td>Curve</td>\n",
       "      <td>0.1161</td>\n",
       "      <td>NaN</td>\n",
       "      <td>NaN</td>\n",
       "      <td>NaN</td>\n",
       "    </tr>\n",
       "    <tr>\n",
       "      <th>15</th>\n",
       "      <td>16</td>\n",
       "      <td>6</td>\n",
       "      <td>10.0</td>\n",
       "      <td>Curve</td>\n",
       "      <td>0.1884</td>\n",
       "      <td>NaN</td>\n",
       "      <td>NaN</td>\n",
       "      <td>NaN</td>\n",
       "    </tr>\n",
       "    <tr>\n",
       "      <th>16</th>\n",
       "      <td>17</td>\n",
       "      <td>6</td>\n",
       "      <td>10.0</td>\n",
       "      <td>Curve</td>\n",
       "      <td>0.1886</td>\n",
       "      <td>0.1886</td>\n",
       "      <td>0.0002</td>\n",
       "      <td>0.11</td>\n",
       "    </tr>\n",
       "    <tr>\n",
       "      <th>17</th>\n",
       "      <td>18</td>\n",
       "      <td>6</td>\n",
       "      <td>10.0</td>\n",
       "      <td>Curve</td>\n",
       "      <td>0.1888</td>\n",
       "      <td>NaN</td>\n",
       "      <td>NaN</td>\n",
       "      <td>NaN</td>\n",
       "    </tr>\n",
       "    <tr>\n",
       "      <th>18</th>\n",
       "      <td>19</td>\n",
       "      <td>7</td>\n",
       "      <td>15.0</td>\n",
       "      <td>Curve</td>\n",
       "      <td>0.2212</td>\n",
       "      <td>NaN</td>\n",
       "      <td>NaN</td>\n",
       "      <td>NaN</td>\n",
       "    </tr>\n",
       "    <tr>\n",
       "      <th>19</th>\n",
       "      <td>20</td>\n",
       "      <td>7</td>\n",
       "      <td>15.0</td>\n",
       "      <td>Curve</td>\n",
       "      <td>0.2214</td>\n",
       "      <td>0.2212</td>\n",
       "      <td>0.0002</td>\n",
       "      <td>0.09</td>\n",
       "    </tr>\n",
       "    <tr>\n",
       "      <th>20</th>\n",
       "      <td>21</td>\n",
       "      <td>7</td>\n",
       "      <td>15.0</td>\n",
       "      <td>Curve</td>\n",
       "      <td>0.2210</td>\n",
       "      <td>NaN</td>\n",
       "      <td>NaN</td>\n",
       "      <td>NaN</td>\n",
       "    </tr>\n",
       "    <tr>\n",
       "      <th>21</th>\n",
       "      <td>22</td>\n",
       "      <td>8</td>\n",
       "      <td>20.0</td>\n",
       "      <td>Curve</td>\n",
       "      <td>0.2915</td>\n",
       "      <td>NaN</td>\n",
       "      <td>NaN</td>\n",
       "      <td>NaN</td>\n",
       "    </tr>\n",
       "    <tr>\n",
       "      <th>22</th>\n",
       "      <td>23</td>\n",
       "      <td>8</td>\n",
       "      <td>20.0</td>\n",
       "      <td>Curve</td>\n",
       "      <td>0.2917</td>\n",
       "      <td>0.2917</td>\n",
       "      <td>0.0002</td>\n",
       "      <td>0.07</td>\n",
       "    </tr>\n",
       "    <tr>\n",
       "      <th>23</th>\n",
       "      <td>24</td>\n",
       "      <td>8</td>\n",
       "      <td>20.0</td>\n",
       "      <td>Curve</td>\n",
       "      <td>0.2919</td>\n",
       "      <td>NaN</td>\n",
       "      <td>NaN</td>\n",
       "      <td>NaN</td>\n",
       "    </tr>\n",
       "  </tbody>\n",
       "</table>\n",
       "</div>"
      ],
      "text/plain": [
       "0   index  Sample Number  Concentration [Hg] (ug/g) Observation  \\\n",
       "0       1              1                        0.0       White   \n",
       "1       2              1                        0.0       White   \n",
       "2       3              1                        0.0       White   \n",
       "3       4              2                        0.5       Curve   \n",
       "4       5              2                        0.5       Curve   \n",
       "5       6              2                        0.5       Curve   \n",
       "6       7              3                        2.5       Curve   \n",
       "7       8              3                        2.5       Curve   \n",
       "8       9              3                        2.5       Curve   \n",
       "9      10              4                        5.0       Curve   \n",
       "10     11              4                        5.0       Curve   \n",
       "11     12              4                        5.0       Curve   \n",
       "12     13              5                        7.5       Curve   \n",
       "13     14              5                        7.5       Curve   \n",
       "14     15              5                        7.5       Curve   \n",
       "15     16              6                       10.0       Curve   \n",
       "16     17              6                       10.0       Curve   \n",
       "17     18              6                       10.0       Curve   \n",
       "18     19              7                       15.0       Curve   \n",
       "19     20              7                       15.0       Curve   \n",
       "20     21              7                       15.0       Curve   \n",
       "21     22              8                       20.0       Curve   \n",
       "22     23              8                       20.0       Curve   \n",
       "23     24              8                       20.0       Curve   \n",
       "\n",
       "0   Instrument Response - Curve Height (Ai)  Average  Standard Deviation (SD)  \\\n",
       "0                                    0.0006      NaN                      NaN   \n",
       "1                                    0.0007   0.0007                   0.0001   \n",
       "2                                    0.0008      NaN                      NaN   \n",
       "3                                    0.0074      NaN                      NaN   \n",
       "4                                    0.0075   0.0075                   0.0001   \n",
       "5                                    0.0076      NaN                      NaN   \n",
       "6                                    0.0374      NaN                      NaN   \n",
       "7                                    0.0373   0.0374                   0.0001   \n",
       "8                                    0.0375      NaN                      NaN   \n",
       "9                                    0.0754      NaN                      NaN   \n",
       "10                                   0.0755   0.0754                   0.0001   \n",
       "11                                   0.0753      NaN                      NaN   \n",
       "12                                   0.1159      NaN                      NaN   \n",
       "13                                   0.1157   0.1159                   0.0002   \n",
       "14                                   0.1161      NaN                      NaN   \n",
       "15                                   0.1884      NaN                      NaN   \n",
       "16                                   0.1886   0.1886                   0.0002   \n",
       "17                                   0.1888      NaN                      NaN   \n",
       "18                                   0.2212      NaN                      NaN   \n",
       "19                                   0.2214   0.2212                   0.0002   \n",
       "20                                   0.2210      NaN                      NaN   \n",
       "21                                   0.2915      NaN                      NaN   \n",
       "22                                   0.2917   0.2917                   0.0002   \n",
       "23                                   0.2919      NaN                      NaN   \n",
       "\n",
       "0   %Relative Standard Deviation (%RSD)  \n",
       "0                                   NaN  \n",
       "1                                 14.29  \n",
       "2                                   NaN  \n",
       "3                                   NaN  \n",
       "4                                  1.33  \n",
       "5                                   NaN  \n",
       "6                                   NaN  \n",
       "7                                  0.27  \n",
       "8                                   NaN  \n",
       "9                                   NaN  \n",
       "10                                 0.13  \n",
       "11                                  NaN  \n",
       "12                                  NaN  \n",
       "13                                 0.17  \n",
       "14                                  NaN  \n",
       "15                                  NaN  \n",
       "16                                 0.11  \n",
       "17                                  NaN  \n",
       "18                                  NaN  \n",
       "19                                 0.09  \n",
       "20                                  NaN  \n",
       "21                                  NaN  \n",
       "22                                 0.07  \n",
       "23                                  NaN  "
      ]
     },
     "execution_count": 5,
     "metadata": {},
     "output_type": "execute_result"
    }
   ],
   "source": [
    "df1[\"%Relative Standard Deviation (%RSD)\"] = df1[\"%Relative Standard Deviation (%RSD)\"].round(2)\n",
    "# df1.replace(np.nan, '', regex=True)\n",
    "df1"
   ]
  },
  {
   "cell_type": "markdown",
   "id": "7ebc1f9d-440e-419a-a0db-aace4566b963",
   "metadata": {},
   "source": [
    "Η τιμή του λευκού δεν είναι ακριβώς μηδενική, επομένως η μέση τιμή των τριών μετρήσεων θα πρέπει να αφαιρεθεί από τις υπόλοιπες."
   ]
  },
  {
   "cell_type": "code",
   "execution_count": 6,
   "id": "78868c45-1b1e-4e79-8289-174f2c4524fc",
   "metadata": {},
   "outputs": [
    {
     "data": {
      "text/html": [
       "<div>\n",
       "<style scoped>\n",
       "    .dataframe tbody tr th:only-of-type {\n",
       "        vertical-align: middle;\n",
       "    }\n",
       "\n",
       "    .dataframe tbody tr th {\n",
       "        vertical-align: top;\n",
       "    }\n",
       "\n",
       "    .dataframe thead th {\n",
       "        text-align: right;\n",
       "    }\n",
       "</style>\n",
       "<table border=\"1\" class=\"dataframe\">\n",
       "  <thead>\n",
       "    <tr style=\"text-align: right;\">\n",
       "      <th></th>\n",
       "      <th>index</th>\n",
       "      <th>Sample Number</th>\n",
       "      <th>Concentration [Hg] (ug/g)</th>\n",
       "      <th>Observation</th>\n",
       "      <th>Instrument Response - Curve Height (Ai)</th>\n",
       "      <th>Average</th>\n",
       "      <th>Standard Deviation (SD)</th>\n",
       "      <th>%Relative Standard Deviation (%RSD)</th>\n",
       "    </tr>\n",
       "  </thead>\n",
       "  <tbody>\n",
       "    <tr>\n",
       "      <th>3</th>\n",
       "      <td>4</td>\n",
       "      <td>2</td>\n",
       "      <td>0.5</td>\n",
       "      <td>Curve</td>\n",
       "      <td>0.0074</td>\n",
       "      <td>NaN</td>\n",
       "      <td>NaN</td>\n",
       "      <td>NaN</td>\n",
       "    </tr>\n",
       "    <tr>\n",
       "      <th>4</th>\n",
       "      <td>5</td>\n",
       "      <td>2</td>\n",
       "      <td>0.5</td>\n",
       "      <td>Curve</td>\n",
       "      <td>0.0075</td>\n",
       "      <td>0.0068</td>\n",
       "      <td>0.0001</td>\n",
       "      <td>1.33</td>\n",
       "    </tr>\n",
       "    <tr>\n",
       "      <th>5</th>\n",
       "      <td>6</td>\n",
       "      <td>2</td>\n",
       "      <td>0.5</td>\n",
       "      <td>Curve</td>\n",
       "      <td>0.0076</td>\n",
       "      <td>NaN</td>\n",
       "      <td>NaN</td>\n",
       "      <td>NaN</td>\n",
       "    </tr>\n",
       "    <tr>\n",
       "      <th>6</th>\n",
       "      <td>7</td>\n",
       "      <td>3</td>\n",
       "      <td>2.5</td>\n",
       "      <td>Curve</td>\n",
       "      <td>0.0374</td>\n",
       "      <td>NaN</td>\n",
       "      <td>NaN</td>\n",
       "      <td>NaN</td>\n",
       "    </tr>\n",
       "    <tr>\n",
       "      <th>7</th>\n",
       "      <td>8</td>\n",
       "      <td>3</td>\n",
       "      <td>2.5</td>\n",
       "      <td>Curve</td>\n",
       "      <td>0.0373</td>\n",
       "      <td>0.0367</td>\n",
       "      <td>0.0001</td>\n",
       "      <td>0.27</td>\n",
       "    </tr>\n",
       "    <tr>\n",
       "      <th>8</th>\n",
       "      <td>9</td>\n",
       "      <td>3</td>\n",
       "      <td>2.5</td>\n",
       "      <td>Curve</td>\n",
       "      <td>0.0375</td>\n",
       "      <td>NaN</td>\n",
       "      <td>NaN</td>\n",
       "      <td>NaN</td>\n",
       "    </tr>\n",
       "    <tr>\n",
       "      <th>9</th>\n",
       "      <td>10</td>\n",
       "      <td>4</td>\n",
       "      <td>5.0</td>\n",
       "      <td>Curve</td>\n",
       "      <td>0.0754</td>\n",
       "      <td>NaN</td>\n",
       "      <td>NaN</td>\n",
       "      <td>NaN</td>\n",
       "    </tr>\n",
       "    <tr>\n",
       "      <th>10</th>\n",
       "      <td>11</td>\n",
       "      <td>4</td>\n",
       "      <td>5.0</td>\n",
       "      <td>Curve</td>\n",
       "      <td>0.0755</td>\n",
       "      <td>0.0747</td>\n",
       "      <td>0.0001</td>\n",
       "      <td>0.13</td>\n",
       "    </tr>\n",
       "    <tr>\n",
       "      <th>11</th>\n",
       "      <td>12</td>\n",
       "      <td>4</td>\n",
       "      <td>5.0</td>\n",
       "      <td>Curve</td>\n",
       "      <td>0.0753</td>\n",
       "      <td>NaN</td>\n",
       "      <td>NaN</td>\n",
       "      <td>NaN</td>\n",
       "    </tr>\n",
       "    <tr>\n",
       "      <th>12</th>\n",
       "      <td>13</td>\n",
       "      <td>5</td>\n",
       "      <td>7.5</td>\n",
       "      <td>Curve</td>\n",
       "      <td>0.1159</td>\n",
       "      <td>NaN</td>\n",
       "      <td>NaN</td>\n",
       "      <td>NaN</td>\n",
       "    </tr>\n",
       "    <tr>\n",
       "      <th>13</th>\n",
       "      <td>14</td>\n",
       "      <td>5</td>\n",
       "      <td>7.5</td>\n",
       "      <td>Curve</td>\n",
       "      <td>0.1157</td>\n",
       "      <td>0.1152</td>\n",
       "      <td>0.0002</td>\n",
       "      <td>0.17</td>\n",
       "    </tr>\n",
       "    <tr>\n",
       "      <th>14</th>\n",
       "      <td>15</td>\n",
       "      <td>5</td>\n",
       "      <td>7.5</td>\n",
       "      <td>Curve</td>\n",
       "      <td>0.1161</td>\n",
       "      <td>NaN</td>\n",
       "      <td>NaN</td>\n",
       "      <td>NaN</td>\n",
       "    </tr>\n",
       "    <tr>\n",
       "      <th>15</th>\n",
       "      <td>16</td>\n",
       "      <td>6</td>\n",
       "      <td>10.0</td>\n",
       "      <td>Curve</td>\n",
       "      <td>0.1884</td>\n",
       "      <td>NaN</td>\n",
       "      <td>NaN</td>\n",
       "      <td>NaN</td>\n",
       "    </tr>\n",
       "    <tr>\n",
       "      <th>16</th>\n",
       "      <td>17</td>\n",
       "      <td>6</td>\n",
       "      <td>10.0</td>\n",
       "      <td>Curve</td>\n",
       "      <td>0.1886</td>\n",
       "      <td>0.1879</td>\n",
       "      <td>0.0002</td>\n",
       "      <td>0.11</td>\n",
       "    </tr>\n",
       "    <tr>\n",
       "      <th>17</th>\n",
       "      <td>18</td>\n",
       "      <td>6</td>\n",
       "      <td>10.0</td>\n",
       "      <td>Curve</td>\n",
       "      <td>0.1888</td>\n",
       "      <td>NaN</td>\n",
       "      <td>NaN</td>\n",
       "      <td>NaN</td>\n",
       "    </tr>\n",
       "    <tr>\n",
       "      <th>18</th>\n",
       "      <td>19</td>\n",
       "      <td>7</td>\n",
       "      <td>15.0</td>\n",
       "      <td>Curve</td>\n",
       "      <td>0.2212</td>\n",
       "      <td>NaN</td>\n",
       "      <td>NaN</td>\n",
       "      <td>NaN</td>\n",
       "    </tr>\n",
       "    <tr>\n",
       "      <th>19</th>\n",
       "      <td>20</td>\n",
       "      <td>7</td>\n",
       "      <td>15.0</td>\n",
       "      <td>Curve</td>\n",
       "      <td>0.2214</td>\n",
       "      <td>0.2205</td>\n",
       "      <td>0.0002</td>\n",
       "      <td>0.09</td>\n",
       "    </tr>\n",
       "    <tr>\n",
       "      <th>20</th>\n",
       "      <td>21</td>\n",
       "      <td>7</td>\n",
       "      <td>15.0</td>\n",
       "      <td>Curve</td>\n",
       "      <td>0.2210</td>\n",
       "      <td>NaN</td>\n",
       "      <td>NaN</td>\n",
       "      <td>NaN</td>\n",
       "    </tr>\n",
       "    <tr>\n",
       "      <th>21</th>\n",
       "      <td>22</td>\n",
       "      <td>8</td>\n",
       "      <td>20.0</td>\n",
       "      <td>Curve</td>\n",
       "      <td>0.2915</td>\n",
       "      <td>NaN</td>\n",
       "      <td>NaN</td>\n",
       "      <td>NaN</td>\n",
       "    </tr>\n",
       "    <tr>\n",
       "      <th>22</th>\n",
       "      <td>23</td>\n",
       "      <td>8</td>\n",
       "      <td>20.0</td>\n",
       "      <td>Curve</td>\n",
       "      <td>0.2917</td>\n",
       "      <td>0.2910</td>\n",
       "      <td>0.0002</td>\n",
       "      <td>0.07</td>\n",
       "    </tr>\n",
       "    <tr>\n",
       "      <th>23</th>\n",
       "      <td>24</td>\n",
       "      <td>8</td>\n",
       "      <td>20.0</td>\n",
       "      <td>Curve</td>\n",
       "      <td>0.2919</td>\n",
       "      <td>NaN</td>\n",
       "      <td>NaN</td>\n",
       "      <td>NaN</td>\n",
       "    </tr>\n",
       "  </tbody>\n",
       "</table>\n",
       "</div>"
      ],
      "text/plain": [
       "0   index  Sample Number  Concentration [Hg] (ug/g) Observation  \\\n",
       "3       4              2                        0.5       Curve   \n",
       "4       5              2                        0.5       Curve   \n",
       "5       6              2                        0.5       Curve   \n",
       "6       7              3                        2.5       Curve   \n",
       "7       8              3                        2.5       Curve   \n",
       "8       9              3                        2.5       Curve   \n",
       "9      10              4                        5.0       Curve   \n",
       "10     11              4                        5.0       Curve   \n",
       "11     12              4                        5.0       Curve   \n",
       "12     13              5                        7.5       Curve   \n",
       "13     14              5                        7.5       Curve   \n",
       "14     15              5                        7.5       Curve   \n",
       "15     16              6                       10.0       Curve   \n",
       "16     17              6                       10.0       Curve   \n",
       "17     18              6                       10.0       Curve   \n",
       "18     19              7                       15.0       Curve   \n",
       "19     20              7                       15.0       Curve   \n",
       "20     21              7                       15.0       Curve   \n",
       "21     22              8                       20.0       Curve   \n",
       "22     23              8                       20.0       Curve   \n",
       "23     24              8                       20.0       Curve   \n",
       "\n",
       "0   Instrument Response - Curve Height (Ai)  Average  Standard Deviation (SD)  \\\n",
       "3                                    0.0074      NaN                      NaN   \n",
       "4                                    0.0075   0.0068                   0.0001   \n",
       "5                                    0.0076      NaN                      NaN   \n",
       "6                                    0.0374      NaN                      NaN   \n",
       "7                                    0.0373   0.0367                   0.0001   \n",
       "8                                    0.0375      NaN                      NaN   \n",
       "9                                    0.0754      NaN                      NaN   \n",
       "10                                   0.0755   0.0747                   0.0001   \n",
       "11                                   0.0753      NaN                      NaN   \n",
       "12                                   0.1159      NaN                      NaN   \n",
       "13                                   0.1157   0.1152                   0.0002   \n",
       "14                                   0.1161      NaN                      NaN   \n",
       "15                                   0.1884      NaN                      NaN   \n",
       "16                                   0.1886   0.1879                   0.0002   \n",
       "17                                   0.1888      NaN                      NaN   \n",
       "18                                   0.2212      NaN                      NaN   \n",
       "19                                   0.2214   0.2205                   0.0002   \n",
       "20                                   0.2210      NaN                      NaN   \n",
       "21                                   0.2915      NaN                      NaN   \n",
       "22                                   0.2917   0.2910                   0.0002   \n",
       "23                                   0.2919      NaN                      NaN   \n",
       "\n",
       "0   %Relative Standard Deviation (%RSD)  \n",
       "3                                   NaN  \n",
       "4                                  1.33  \n",
       "5                                   NaN  \n",
       "6                                   NaN  \n",
       "7                                  0.27  \n",
       "8                                   NaN  \n",
       "9                                   NaN  \n",
       "10                                 0.13  \n",
       "11                                  NaN  \n",
       "12                                  NaN  \n",
       "13                                 0.17  \n",
       "14                                  NaN  \n",
       "15                                  NaN  \n",
       "16                                 0.11  \n",
       "17                                  NaN  \n",
       "18                                  NaN  \n",
       "19                                 0.09  \n",
       "20                                  NaN  \n",
       "21                                  NaN  \n",
       "22                                 0.07  \n",
       "23                                  NaN  "
      ]
     },
     "execution_count": 6,
     "metadata": {},
     "output_type": "execute_result"
    }
   ],
   "source": [
    "blanc = df1[df1['Observation'] == 'White'][df1['Average'].notna()]['Average']\n",
    "\n",
    "for i,col in df1.iterrows():\n",
    "    if i%3 == 0:\n",
    "        df1.loc[i+1,\"Average\"] = df1.loc[i+1,\"Average\"] - float(blanc)\n",
    "df1 = df1[df1['Concentration [Hg] (ug/g)'] != 0.0]\n",
    "df1"
   ]
  },
  {
   "cell_type": "markdown",
   "id": "0d43f005-5f82-49f4-9dcf-9ddeaecaf656",
   "metadata": {},
   "source": [
    "### Ετεροσκεδαστικότητα\n",
    "\n",
    "Το φαινόμενο κατά το οποίο η τυπική απόκλιση **δεν** παραμένει περίππου σταθερή σε όλη τη δυναμική περιοχή ονομάζεται **ετεροσκεδαστικότηα** (ενό το αντίθετο **όμοσκεδαστικότητα**). Μια ιδιαίτερη περίπτωση αυτού του φαινομένου είναι όταν η μεν τυπική απόκλιση δεν είναι περίππου σταθερή, αλλά η *σχετική* τυπική απόκλιση είναι. Αυτό σημαίνει ότι η τυπική απόκλιση αυξάνεται με τη συγκέντρωση. Η ετεροσκεδαστικότητα είναι ανεπιθύμητη γενικά, γιατί τα περισσότερα μοντέλα που χρησιμοποιούμε υποθέτουν ομοσκεδαστικότητα και γιατί οι περισσότερο απομακρυσμένες τιμές έχουν πολύ μεγαλύτερη επίδραση σε μια εξίσωση παλινδρόμησης. \n",
    "\n",
    "Μπορούμε να ελένξουμε αν υπάρχει ετεροσκεδαστικότητα με τον εξής τρόπο. Αρχικά κάνουμε μια οπτική παρατήρηση στα διαγράμματα $S=S(C)$, $\\frac SC =\\frac SC(C)$ (απόκρισης) καθώς και στο διάγραμμα των υπολοίπων (*residuals*) δηλαδή το $(x_i-\\overline{x})=f(C)$. Σε αυτά τα διαγράμματα αναμένουμε γραμμική σχέση (περίππου) ενώ εάν υπάρχει κάποια εμφανή τάση (*trend*) τότε έχουμε ετεροσκεδαστικότητα. Σημειώνουμε οτι στα ίδια διαγράμματα φαίνεται και η πιθανή παρουσία *έκτροπων τιμών (outliers)*. Το διάγραμμα λόγο απόκρισης προς συγκέντρωση συναρτήση της συγκέντρωσης πρέπει να είναι ευθεία γραμμή.\n",
    "\n",
    "Πέραν από την καθαρά οπτική παρατήρηση, εφαρμώζουμε και το ακόλουθο αριθμητικό κριτήριο\n",
    "> **Κριτήριο Ετεροσκεδαστικότητας:** \\\n",
    "> Αν ισχύει ότι:\\\n",
    "> $\\dfrac {\\max{s_i}}{\\min{s_i}}\\notin [0.8,1.2]\\iff$\n",
    "> ετεροσκεδαστικότητα\n",
    "\n",
    "Η ετεροσκεδαστικότητα μπορεί να αντιμετοπιστεί με *ζυγισμένη (weighted)* παλινδρόμηση, όπου η πλέον η εξίσωση γίνεται από $S=f(C)$, $S=f(\\frac1C)$ ή $\\frac 1S=f(C)$ άλλη."
   ]
  },
  {
   "cell_type": "code",
   "execution_count": 7,
   "id": "c19b228b-6eec-4ed3-abb4-1d4f7049124f",
   "metadata": {},
   "outputs": [
    {
     "data": {
      "image/png": "[encoded data removed]",
      "text/plain": [
       "<Figure size 2500x750 with 3 Axes>"
      ]
     },
     "metadata": {
      "needs_background": "light"
     },
     "output_type": "display_data"
    }
   ],
   "source": [
    "# Προσαρμωγή σε Μοντέλο\n",
    "aux_df = pd.DataFrame({\n",
    "                        'Concentration':df1[~df1[\"Average\"].isnull()][\"Concentration [Hg] (ug/g)\"][1:],\n",
    "                        'Signal':df1[~df1[\"Average\"].isnull()][\"Average\"][1:]\n",
    "                      })\n",
    "model = ols('Signal ~ Concentration', data=aux_df)\n",
    "results = model.fit()\n",
    "fig, (ax1,ax2,ax3) = plt.subplots(1,3)\n",
    "ax1.plot(aux_df['Concentration'],aux_df['Signal'], 'ro')\n",
    "ax1.set_title(\"Διάγραμμα Απόκρισης\")\n",
    "ax1.set_xlabel('Συγκέντρωση μg/g')\n",
    "ax1.set_ylabel('Απόκριση (Απορρόφηση)')\n",
    "ax2.plot(aux_df['Concentration'],aux_df['Signal']/aux_df['Concentration'],'bo')\n",
    "ax2.set_title(\"Διάγραμμα Σχετικής Απόκρισης - Συγκέντρωσης\")\n",
    "ax2.set_xlabel('Συγκέντρωση μg/g')\n",
    "ax2.set_ylabel('Σχετική Απόκριση')\n",
    "ax3.plot(aux_df['Concentration'], results.resid, 'go')\n",
    "ax3.set_title(\"Διάγραμμα Υπολοίπων\")\n",
    "ax3.set_xlabel(\"Συγκέντρωση\")\n",
    "ax3.set_ylabel(\"Υπόλοιπα\")\n",
    "plt.show()"
   ]
  },
  {
   "cell_type": "code",
   "execution_count": 8,
   "id": "23e3c8f6-ed8a-441e-b63f-391159bd98b7",
   "metadata": {},
   "outputs": [
    {
     "data": {
      "text/markdown": [
       "**Is this heteroscedastic ? \n",
       " True**"
      ],
      "text/plain": [
       "<IPython.core.display.Markdown object>"
      ]
     },
     "execution_count": 8,
     "metadata": {},
     "output_type": "execute_result"
    }
   ],
   "source": [
    "def is_heteroscedastic(df:pd.DataFrame)->bool:\n",
    "    r = df['Standard Deviation (SD)'].iloc[-1] - df['Standard Deviation (SD)'].iloc[0]\n",
    "    if not (r>0.8 and r<1.2):\n",
    "        return True\n",
    "    else:\n",
    "        return False\n",
    "display.Markdown(f\"**Is this heteroscedastic? \\n {is_heteroscedastic(df1[~df1['Average'].isnull()])}**\")"
   ]
  },
  {
   "cell_type": "markdown",
   "id": "e4ac8eb7-58fc-48f0-9e61-43bf387cb505",
   "metadata": {},
   "source": [
    "### Καμπύλη Βαθμονόμησης\n",
    "\n",
    "Υποθέτουμε γραμμική σχέση μεταξύ σήματος και συγκέντρωσης, οπότε θα εξάγουμε αυτή τη σχέση στατιστικά, με τη μέθοδο των ελαχίστων τετραγώνων. Προσαρμώζουμε τα δεδομένα σε γραμμικό μοντέλο:\n",
    "$$\n",
    "\\begin{array}{ccc}\n",
    "&&&&\\\\\n",
    "&&&&\\\\\n",
    "\\hat{y}=\\beta_1(\\pm S_a)+\\beta_0(\\pm S_b)x&&S_{\\frac yx}&&r\n",
    "&&&&\\\\\n",
    "&&&&\\\\\n",
    "\\end{array}\n",
    "$$\n",
    "Τα δεδομένα προσαρμώζονται στο μοντέλο, έτσι ώστε το $S_{\\frac yx}$ (το τυπικό σφάλμα *των υπολοίπων*) να έχει την ελάχιστη δυνατή τιμή."
   ]
  },
  {
   "cell_type": "code",
   "execution_count": 9,
   "id": "2994955d-8d5b-43cb-8ed4-6b36d07543ad",
   "metadata": {},
   "outputs": [
    {
     "data": {
      "image/png": "[encoded data removed]",
      "text/plain": [
       "<Figure size 2500x750 with 1 Axes>"
      ]
     },
     "metadata": {
      "needs_background": "light"
     },
     "output_type": "display_data"
    }
   ],
   "source": [
    "x = np.arange(0, 25)\n",
    "plt.plot(x,results.params.Intercept+x*results.params.Concentration, 'r-')\n",
    "plt.plot(aux_df['Concentration'],aux_df['Signal'], 'bo',markersize=7 )\n",
    "plt.title('Καμπύλη Βαθμονόμησης Προτύπων')\n",
    "plt.xlabel('Συγκέντρωση μg/g')\n",
    "plt.ylabel('Απορρόφηση')\n",
    "plt.show()"
   ]
  },
  {
   "cell_type": "markdown",
   "id": "69616392-ee06-4099-934c-ebd8c3f52f60",
   "metadata": {},
   "source": [
    "Είναι εμφανές οτι η τιμή για $C=10$ είναι έκτροπη (outlier) και θα πρέπει να απορριφθεί."
   ]
  },
  {
   "cell_type": "code",
   "execution_count": 10,
   "id": "65acb994-3d0b-4a3c-8953-e2fc3fe67fe3",
   "metadata": {
    "tags": []
   },
   "outputs": [
    {
     "data": {
      "text/markdown": [
       "|    |   Concentration [Hg] (ug/g) |   Instrument Response - Curve Height (Ai) |   Average |   Standard Deviation (SD) |   %Relative Standard Deviation (%RSD) |\n",
       "|---:|----------------------------:|------------------------------------------:|----------:|--------------------------:|--------------------------------------:|\n",
       "|  4 |                         0.5 |                                    0.0075 |    0.0068 |                    0.0001 |                                  1.33 |\n",
       "|  7 |                         2.5 |                                    0.0373 |    0.0367 |                    0.0001 |                                  0.27 |\n",
       "| 10 |                         5   |                                    0.0755 |    0.0747 |                    0.0001 |                                  0.13 |\n",
       "| 13 |                         7.5 |                                    0.1157 |    0.1152 |                    0.0002 |                                  0.17 |\n",
       "| 19 |                        15   |                                    0.2214 |    0.2205 |                    0.0002 |                                  0.09 |\n",
       "| 22 |                        20   |                                    0.2917 |    0.291  |                    0.0002 |                                  0.07 |"
      ],
      "text/plain": [
       "<IPython.core.display.Markdown object>"
      ]
     },
     "execution_count": 10,
     "metadata": {},
     "output_type": "execute_result"
    }
   ],
   "source": [
    "df1 = df1[df1['Concentration [Hg] (ug/g)'] != 10.0]\n",
    "df1 = df1.drop(labels = [\"index\",\"Sample Number\",\"Observation\"],axis=1)\n",
    "df1[\"Standard Deviation (SD)\"] = df1[\"Standard Deviation (SD)\"].dropna().round(5)\n",
    "display.Markdown(df1.dropna().to_markdown())"
   ]
  },
  {
   "cell_type": "code",
   "execution_count": 40,
   "id": "3451c585-b64f-42cd-9b4b-9311c1ce011a",
   "metadata": {
    "tags": []
   },
   "outputs": [
    {
     "data": {
      "image/png": "[encoded data removed]",
      "text/plain": [
       "<Figure size 2500x750 with 1 Axes>"
      ]
     },
     "metadata": {
      "needs_background": "light"
     },
     "output_type": "display_data"
    }
   ],
   "source": [
    "aux_df = pd.DataFrame({\n",
    "                        'Concentration':df1[~df1[\"Average\"].isnull()][\"Concentration [Hg] (ug/g)\"],\n",
    "                        'Signal':df1[~df1[\"Average\"].isnull()][\"Average\"][1:]\n",
    "                      })\n",
    "model = ols('Signal ~ Concentration', data=aux_df)\n",
    "results = model.fit()\n",
    "x = np.arange(0, 25)\n",
    "plt.plot(x,results.params.Intercept+x*results.params.Concentration, 'r-')\n",
    "plt.plot(aux_df['Concentration'],aux_df['Signal'], 'bo',markersize=7 )\n",
    "plt.title('Καμπύλη Βαθμονόμησης Προτύπων (Χωρίς Έκτροπες Τιμές)')\n",
    "plt.xlabel('Συγκέντρωση μg/g')\n",
    "plt.ylabel('Απορρόφηση')\n",
    "plt.show()\n",
    "# display.Markdown(aux_df.to_markdown())"
   ]
  },
  {
   "cell_type": "markdown",
   "id": "306b39a4-ac52-4ba7-a307-6590230ce638",
   "metadata": {},
   "source": [
    "## Προσαρμωγή Σε Γραμμικό Μοντέλο\n",
    "\n",
    "Αφού αποφανθήκαμε για την ετεροσκεδαστικότητα, θα πρέπει τώρα να προσαρμώσουμε τα καθαρισμένα δεδομένα σε γραμμικό μοντέλο και να αποφανθούμε για τα όρια ανίχνευση και ποσοτικοποίησης **του οργάνου** και για την ύπαρξη τυχόν συστηματικού σφάλματος. Όπως πάντα για χρησιμοποιήσουμε απλό γραμμικο μοντέλο με παλινδρόμηση. Η γενική εξίσωση θα είναι: \n",
    "$$\n",
    "\\begin{array}{ccc}\n",
    "&&&&\\\\\n",
    "&&&&\\\\\n",
    "\\hat{y}=\\beta_1(\\pm S_a)+\\beta_0(\\pm S_b)x&&S_{\\frac yx}&&r\n",
    "&&&&\\\\\n",
    "&&&&\\\\\n",
    "\\end{array}\n",
    "$$\n",
    "Σημειώνουμε ότι μετά της απόρριψη έκτροπων τιμή, η καμπύλη θα πρέπει να έχει τουλάχιστον 6 σημεία (έχουμε ακριβώς 6)."
   ]
  },
  {
   "cell_type": "code",
   "execution_count": 45,
   "id": "34252083-bc71-4b35-8ff8-73652a49013c",
   "metadata": {},
   "outputs": [
    {
     "name": "stdout",
     "output_type": "stream",
     "text": [
      "                            OLS Regression Results                            \n",
      "==============================================================================\n",
      "Dep. Variable:                 Signal   R-squared:                       1.000\n",
      "Model:                            OLS   Adj. R-squared:                  0.999\n",
      "Method:                 Least Squares   F-statistic:                     8434.\n",
      "Date:                Fri, 23 Jul 2021   Prob (F-statistic):           8.43e-08\n",
      "Time:                        16:18:13   Log-Likelihood:                 28.212\n",
      "No. Observations:                   6   AIC:                            -52.42\n",
      "Df Residuals:                       4   BIC:                            -52.84\n",
      "Df Model:                           1                                         \n",
      "Covariance Type:            nonrobust                                         \n",
      "=================================================================================\n",
      "                    coef    std err          t      P>|t|      [0.025      0.975]\n",
      "---------------------------------------------------------------------------------\n",
      "Intercept         0.0016      0.002      0.901      0.418      -0.003       0.006\n",
      "Concentration     0.0146      0.000     91.837      0.000       0.014       0.015\n",
      "==============================================================================\n",
      "Omnibus:                          nan   Durbin-Watson:                   1.408\n",
      "Prob(Omnibus):                    nan   Jarque-Bera (JB):                1.157\n",
      "Skew:                           1.075   Prob(JB):                        0.561\n",
      "Kurtosis:                       2.918   Cond. No.                         17.2\n",
      "==============================================================================\n",
      "\n",
      "Notes:\n",
      "[1] Standard Errors assume that the covariance matrix of the errors is correctly specified.\n",
      "Intercept        0.001729\n",
      "Concentration    0.000159\n",
      "dtype: float64\n"
     ]
    },
    {
     "data": {
      "text/markdown": [
       "$R^2 = 99.95\\%$"
      ],
      "text/plain": [
       "<IPython.core.display.Markdown object>"
      ]
     },
     "execution_count": 45,
     "metadata": {},
     "output_type": "execute_result"
    }
   ],
   "source": [
    "# Προσαρμωγή σε Μοντέλο\n",
    "aux_df = pd.DataFrame({\n",
    "                        'Concentration':df1[~df1[\"Average\"].isnull()][\"Concentration [Hg] (ug/g)\"],\n",
    "                        'Signal':df1[~df1[\"Average\"].isnull()][\"Average\"]\n",
    "                      })\n",
    "model = ols('Signal ~ Concentration', data = aux_df)\n",
    "results = model.fit()\n",
    "print(results.summary())\n",
    "print(results.bse)\n",
    "Syx=sqrt(results.mse_resid)\n",
    "display.Markdown(f\"$R^2 = {results.rsquared.round(4)*100}\\%$\")"
   ]
  },
  {
   "cell_type": "markdown",
   "id": "0a9aeb4b-5a46-4806-9e71-8c33208344bc",
   "metadata": {},
   "source": [
    "||||\n",
    "-----|-----|------\n",
    "Όρος|Τιμή|Τυπικό Σφάλμα\n",
    "Σταθερός Όρος|0.002900|0,002227\n",
    "Συντελεστής Συγκέντρωσης|0.014500|0,000187\n",
    "Υπόλοιπα||0.002719\n",
    "Συντελεστής Συσχέτισης|0.99950|"
   ]
  },
  {
   "cell_type": "markdown",
   "id": "27d63464-d241-4e24-a3cc-a8fad7c9b1a1",
   "metadata": {},
   "source": [
    "## Στατιστικα Σημαντική Τομή\n",
    "Πρέπει να εξαιτάσουμε αν η τομή, δηλαδή ο σταθερός όρος της εξίσωσης είναι στατιστικά σημαντικά διαφορετικός από το μηδέν. Αν δεν είναι τότε υπάρχει συστηματικό σταθερό σφάλμα (bias) και αν είναι μπορούμε να θεωρήσουμε τον όρο αυτό μηδέν"
   ]
  },
  {
   "cell_type": "markdown",
   "id": "dd34e6d7-fe71-4c7f-a892-0c591c2b5260",
   "metadata": {},
   "source": [
    "### α-Επιπέδου Ελεγχος Υπόθεσης για την Παράμετρο $\\beta_1$\n",
    "\n",
    "Αρχικά θα πρέπει να ορίσουμε την μηδενική και εναλλακτική υπόθεση.\n",
    "\n",
    "|||\n",
    "---|----\n",
    "Μηδενική Υπόθεση|$H_0:\\;\\beta_1=c$\n",
    "Εναλλακτική Υπόθεση|$H_1:\\;\\beta_1\\neq c$\n",
    "\n",
    "Όπου $c$ μπορεί να είναι οποιοσδήποτε (επιτρεπτή) τιμή για την τομή. Συνήθως ελέγχουμε αν είναι ίση με το μηδέν. Επιπλέον η εναλλακτική υπόθεση μπορεί να είναι επίσης $H_1:\\;\\beta_1> c$ ή $H_1:\\;\\beta_1< c$\n",
    "\n",
    "Δεύτερον θα εκτελέσουμε T-Test, ενός δείγματος, χρησιμοποιόντας τον ακόλουθο τύπο:\n",
    "$$\n",
    "\\begin{array}{c}\n",
    "\\\\\n",
    "\\\\\n",
    "T_{exp} = \\dfrac{b_1-c}{\\bigg( \\dfrac{\\sqrt{MSE} }{\\sqrt{\\sum(x_i-\\overline{x})^2}} \\bigg)}\n",
    "\\\\\n",
    "\\\\\n",
    "\\end{array}\n",
    "$$\n",
    "\n",
    "Τρίτον, θα χρησιμοποιήσουμε την τιμή $T_{exp}$ για να υπολογίσουμε την τιμή P, η οποία δίνει τη πιθανότητα να εμφανιστεί η συγκεκριμένη τιμή $T_{exp}$, όταν ισχύει η μηδενική υπόθεση. Η τιμή $P$ αναφέρεται σε κατανομή $T$ με $n-2$ βαθμούς ελευθερίας. Τελικά παίρνουμε μια απόφαση:\n",
    "\n",
    "* Αν η τιμή $P$ είναι μικρότερη του επιπέδου σημαντικότητας $α$, τότε απορρίπτουμε τη μηδενική υπόθεση, και διατηρούμε την εναλλακτική υπόθεση. Συμπεραίνουμε οτι \"υπάρχουν επαρκής αποδήξεις, σε επίπεδο εμπιστοσύνης α, να συμπεράνουμε οτι υπάρχει γραμμική σχέση **στον πληθυσμό** μεταξύ συγκέντρωσης και σήματος\"\n",
    "\n",
    "* Αν η τιμή $P$ είναι μεταξύτερη του επιπέδου σημαντικότητας $α$, τότε δεν απορρίπτουμε την μηδενική υπόθεση αλλά την διατηρούμε, και συμπεραίνουμ οτι \"δε υπάρχουν επαρκής αποδήξεις, σε επίπεδο εμπιστοσύνης α, να συμπεράνουμε οτι υπάρχει γραμμική σχέση **στον πληθυσμό** μεταξύ συγκέντρωσης και σήματος\""
   ]
  },
  {
   "cell_type": "markdown",
   "id": "f2557217-83b5-47c5-9807-071cabf78a7c",
   "metadata": {},
   "source": [
    "Βάση του άνω πίνακα αποτελεσμάτων είναι:\n",
    "$T_{exp}=1.450<T_{theo}=2.776$\n",
    "Επομένως κρατάμε τη μηδενική υπόθεση και η τιμή **δεν** είναι στατιστικά διαφορετική από το μηδέν.\n",
    "Επειδή έχουμε πρόσβαση και στην τιμή $P$ (στήλη $P>|t|$), βρίσκουμε οτι αυτή η τιμή είναι μεγαλύτερη του $\\alpha=0.005$ επομένως η τομή δεν είναι στη πραγματικότητα μηδέν."
   ]
  },
  {
   "cell_type": "markdown",
   "id": "87e61014-9b6e-4c7e-b184-c16d41421b0a",
   "metadata": {},
   "source": [
    "## Όρια Ανίχνευση και Ποσοτικοποίησης\n",
    "\n",
    "Από τα δεδομένα που έχουμε πλέον, μπορούμε να υπολογίσουμε τα όρια ανίχνευσης και ποσοτικοποίησης **του οργάνου**. Ο γενικότερος όρος *ανιχνευσημότητα* εκφράζει την ικανότητα της μεθόδου να ανιχνεύει μικρές ποσότητες του αναλύτη. Εκφράζεται ποιό συγκεκριμένα με το *όριο ανίχνευσης* και το *όριο ποσοτικοποίησης*. Το πρώτο εκφράζει την ελάχιστη συγκέντρωση του αναλύτη που μπορεί να διακριθεί αναμφίβολα από τον θόρυβο και η δεύτερη την ελάχιστη συγκέντρωση του αναλύτη που μπορεί αναμφίβολα να ποσοτικοποιηθεί παρουσία του θορύβου. Στη πράξη το δεύτερο ορίζεται συναρτίσει του πρώτου, και υπάρχουν διάφοροι ορισμοί για το όριο ανίχνευσης.\n",
    "Στατιστικά, υπάρχουν δύο δυνατά σφάλματα κατά την απόφαση αν υπάρχει αναλύτης ή οχι. Μπορεί να αποφασίσουμε οτι υπάρχει ενώ δεν υπάρχει (σφάλμα πρώτου είδους **α**) ή να αποφασίσουμε οτι δεν υπάρχει ενώ υπάρχει (σφάλμα δεύτερου είδους **β**).\n",
    "\n",
    "Ο πρώτος ορισμός του Ορίου Ανίχνευσης είναι κυρίως στατιστικός\n",
    "> Όριο ανίχνευση (LOD) είναι το ελάχιστο παρατηρούμενο *σήμα* του αναλύτη, το οποίο με αξιοπιστία $(1-α)$ μπορεί να θεωρηθεί οτι είναι σήμα προκαλούμενο από τον αναλύτη. Τότε το $α$ είναι η πιθανότητα σφάλματος πρώτου είδους\n",
    " \n",
    "Βάση θορύβου και των άνω μπορούμε να προχωρήσουμε σε ένα ποιό συγκεκριμένο ορισμό. Έστω οτι μετράμε λευκά δείγματα $(\\overline{S_{blank}},s_r)$. Τότε θα είναι:\n",
    "$$\n",
    "S=\\overline{S_{blank}}+ks_r\n",
    "$$\n",
    "Εδώ $k$ είναι μια ελεύθερη παράμετρος που δίδει την επιθυμητή τιμή $1-α$ (συνήθως $k=3.3 \\iff a=0.005 \\iff CI=95\\%$. Τότε αν επιπλέον $w_0$ η κλίση καμπύλης απόκρισης θα είναι:\n",
    "$$\n",
    "LOD\\equiv C = \\dfrac{\\overline{S_{blank}}+ks_r}{w_0}\n",
    "$$\n",
    "Βάση των άνω μπορούμε να αναδιατυπώσουμε τους ορισμού ως εξης:\n",
    "> ***Όριο Ανίχνευσης*** είναι η συγκέντρωση του αναλύτη αυτή που δίδει αναλυτικό σήμα που διαφέρει από αυτό του θορύβου κατά 3.3 φορές τη τυπική απόκλιση του θορύβου (λευκού).\n",
    "> ***Όριο Ποσοτικοποίησης*** είναι η συγκέντρωση του αναλύτη αυτή που δίδει αναλυτικό σήμα που διαφέρει από αυτό του θορύβου κατά 10 φορές τη τυπική απόκλιση του θορύβου (λευκού).\n",
    "\n",
    "> *Παρατήρηση:* \\\n",
    "Σε κάποιες περιπτώσεις μπορούμε να χρησιμοποιήσουμε και το *όριο εγγυημένη καθαρότητας ΄΄οπου $k=6$*\n",
    "\n",
    "**Γενικές Μέθοδοι Προσδιορισμού**\n",
    "\n",
    "Μέθοδος|Παρατήρηση|Περιγραφή\n",
    "-----|------|-----\n",
    "Οπτική Αξιολόγηση|Για μη ενόργανες|Αναλύονται πρότυπα μειωμένης συγκέντρωσης μέχρι να διακρίνεται μόλις ο αναλύτης\n",
    "Λόγος $\\frac SN$|Ενόργανες με Γραμμή Θορύβου|Μετριέται ή από λευκά ή από πρότυπα εξαιρετικά χαμηλής συγκέντρωσης που αντιπροσωπεύουν τον θόρυβο. Η συγκέντρωση που δίδει λόγο σημάτων $\\dfrac SN=3.3$ ή $\\dfrac SN=3$ είναι το LOD και 10 για το LOD\n",
    "Τυπικής Απόκλισης|Πρακτικά ο συνηθέστερος|Με γενικό τύπο $3.3\\;\\dfrac{s}{w_0}$ και για 10 για LOQ. Απαιτεί καμπύλη απόκρισης $(w_0)$\n",
    "\n",
    "**Εκτιμήτριες Τυπικής Απόκλισης**\n",
    "\n",
    "|||\n",
    "-----|-----\n",
    "$s_{blank}$|Από ανάλυση λευκών\n",
    "$s_{low}$|Από άγνωστο χαμηλής συγκέντρωησης\n",
    "Τομή SD|Από την τομή $s=f(c)$ από σειρά αγνώστων ή συνθετικών\n",
    "Τυπικό Σφάλμα Κλίσης Απόκρισης|Από την καμπύλη απόκρισης, το τυπικό σφάλμα *της κλίσης*\n",
    "Τυπικό Σφάλμα Υπολείπων Απόκρισης|Από την καμπύλη απόκρισης, το τυπικό σφάλμα *των υπολοίπων*\n",
    "Φασματομετρικά|Από τη σχετική τυπική απόκλιση $3.3\\;\\dfrac{\\%RSD}{100}$"
   ]
  },
  {
   "cell_type": "markdown",
   "id": "b0d4bdba-cc85-480f-a083-fe463375fde6",
   "metadata": {},
   "source": [
    "Με βάση τα δεδομένα που έχουμε είδη, μπορούμε να προσδιορίσουμε τα όρια LOD και LOQ από τις τυπικές αποκλίσεις της τομής $(s_a)$ και των υπολοίπων $(s_{y/x})$ ως:\n",
    "$$\n",
    "\\begin{array}{cc}\n",
    "LOD_a = 3.3\\;\\dfrac{s_a}{w_0}&&LOQ_a = 10\\;\\dfrac{s_a}{w_0}\\\\\n",
    "LOD_{y/x} = 3.3\\;\\dfrac{s_{y/x}}{w_0}&&LOQ_{y/x} = 10\\;\\dfrac{s_{y/x}}{w_0}\n",
    "\\end{array}\n",
    "$$"
   ]
  },
  {
   "cell_type": "code",
   "execution_count": 47,
   "id": "03f6aa08-0fe9-4aa0-91ef-67b868eb5bb5",
   "metadata": {},
   "outputs": [
    {
     "name": "stdout",
     "output_type": "stream",
     "text": [
      "Intercept        0.001558\n",
      "Concentration    0.014565\n",
      "dtype: float64\n"
     ]
    }
   ],
   "source": [
    "# Unsafe, must double-check\n",
    "detectability = pd.DataFrame(data = {\n",
    "    '':['Intercept', 'Residuals'],\n",
    "    'LOD (ng/mL)':[3.3*results.bse[0]/results.params[0] ,3.3*Syx/results.params[0]],\n",
    "    'LOQ (ng/mL)':[10*results.bse[0]/results.params[0],10*Syx/results.params[0]]\n",
    "})\n",
    "detectability = detectability.round(2)\n",
    "display.Markdown(detectability.to_markdown())\n",
    "print(results.params)"
   ]
  },
  {
   "cell_type": "code",
   "execution_count": 14,
   "id": "8dac092e-6cdb-4c7f-81bb-b81b2533aed0",
   "metadata": {},
   "outputs": [
    {
     "data": {
      "text/html": [
       "<div>\n",
       "<style scoped>\n",
       "    .dataframe tbody tr th:only-of-type {\n",
       "        vertical-align: middle;\n",
       "    }\n",
       "\n",
       "    .dataframe tbody tr th {\n",
       "        vertical-align: top;\n",
       "    }\n",
       "\n",
       "    .dataframe thead th {\n",
       "        text-align: right;\n",
       "    }\n",
       "</style>\n",
       "<table border=\"1\" class=\"dataframe\">\n",
       "  <thead>\n",
       "    <tr style=\"text-align: right;\">\n",
       "      <th></th>\n",
       "      <th>1</th>\n",
       "      <th>2</th>\n",
       "      <th>3</th>\n",
       "      <th>4</th>\n",
       "      <th>5</th>\n",
       "      <th>6</th>\n",
       "    </tr>\n",
       "  </thead>\n",
       "  <tbody>\n",
       "    <tr>\n",
       "      <th>2</th>\n",
       "      <td>120.300000</td>\n",
       "      <td>245.100000</td>\n",
       "      <td>454.100000</td>\n",
       "      <td>668.700000</td>\n",
       "      <td>919.600000</td>\n",
       "      <td>1332.000000</td>\n",
       "    </tr>\n",
       "    <tr>\n",
       "      <th>3</th>\n",
       "      <td>121.800000</td>\n",
       "      <td>242.700000</td>\n",
       "      <td>471.000000</td>\n",
       "      <td>711.100000</td>\n",
       "      <td>946.900000</td>\n",
       "      <td>1255.000000</td>\n",
       "    </tr>\n",
       "    <tr>\n",
       "      <th>4</th>\n",
       "      <td>114.800000</td>\n",
       "      <td>241.300000</td>\n",
       "      <td>467.000000</td>\n",
       "      <td>753.000000</td>\n",
       "      <td>901.700000</td>\n",
       "      <td>1426.000000</td>\n",
       "    </tr>\n",
       "    <tr>\n",
       "      <th>5</th>\n",
       "      <td>110.100000</td>\n",
       "      <td>242.200000</td>\n",
       "      <td>496.800000</td>\n",
       "      <td>723.000000</td>\n",
       "      <td>949.200000</td>\n",
       "      <td>1355.000000</td>\n",
       "    </tr>\n",
       "    <tr>\n",
       "      <th>6</th>\n",
       "      <td>119.600000</td>\n",
       "      <td>241.400000</td>\n",
       "      <td>480.600000</td>\n",
       "      <td>720.700000</td>\n",
       "      <td>955.800000</td>\n",
       "      <td>1404.000000</td>\n",
       "    </tr>\n",
       "    <tr>\n",
       "      <th>7</th>\n",
       "      <td>108.000000</td>\n",
       "      <td>247.700000</td>\n",
       "      <td>475.600000</td>\n",
       "      <td>705.600000</td>\n",
       "      <td>996.500000</td>\n",
       "      <td>1389.000000</td>\n",
       "    </tr>\n",
       "    <tr>\n",
       "      <th>8</th>\n",
       "      <td>115.766667</td>\n",
       "      <td>243.400000</td>\n",
       "      <td>474.183333</td>\n",
       "      <td>713.683333</td>\n",
       "      <td>944.950000</td>\n",
       "      <td>1360.166667</td>\n",
       "    </tr>\n",
       "    <tr>\n",
       "      <th>9</th>\n",
       "      <td>5.744795</td>\n",
       "      <td>2.518730</td>\n",
       "      <td>14.281235</td>\n",
       "      <td>27.485808</td>\n",
       "      <td>32.588878</td>\n",
       "      <td>61.590313</td>\n",
       "    </tr>\n",
       "    <tr>\n",
       "      <th>10</th>\n",
       "      <td>4.962391</td>\n",
       "      <td>1.034811</td>\n",
       "      <td>3.011754</td>\n",
       "      <td>3.851261</td>\n",
       "      <td>3.448741</td>\n",
       "      <td>4.528145</td>\n",
       "    </tr>\n",
       "    <tr>\n",
       "      <th>11</th>\n",
       "      <td>NaN</td>\n",
       "      <td>NaN</td>\n",
       "      <td>NaN</td>\n",
       "      <td>NaN</td>\n",
       "      <td>NaN</td>\n",
       "      <td>NaN</td>\n",
       "    </tr>\n",
       "    <tr>\n",
       "      <th>12</th>\n",
       "      <td>NaN</td>\n",
       "      <td>NaN</td>\n",
       "      <td>NaN</td>\n",
       "      <td>NaN</td>\n",
       "      <td>NaN</td>\n",
       "      <td>NaN</td>\n",
       "    </tr>\n",
       "    <tr>\n",
       "      <th>13</th>\n",
       "      <td>NaN</td>\n",
       "      <td>NaN</td>\n",
       "      <td>NaN</td>\n",
       "      <td>NaN</td>\n",
       "      <td>NaN</td>\n",
       "      <td>NaN</td>\n",
       "    </tr>\n",
       "  </tbody>\n",
       "</table>\n",
       "</div>"
      ],
      "text/plain": [
       "             1           2           3           4           5            6\n",
       "2   120.300000  245.100000  454.100000  668.700000  919.600000  1332.000000\n",
       "3   121.800000  242.700000  471.000000  711.100000  946.900000  1255.000000\n",
       "4   114.800000  241.300000  467.000000  753.000000  901.700000  1426.000000\n",
       "5   110.100000  242.200000  496.800000  723.000000  949.200000  1355.000000\n",
       "6   119.600000  241.400000  480.600000  720.700000  955.800000  1404.000000\n",
       "7   108.000000  247.700000  475.600000  705.600000  996.500000  1389.000000\n",
       "8   115.766667  243.400000  474.183333  713.683333  944.950000  1360.166667\n",
       "9     5.744795    2.518730   14.281235   27.485808   32.588878    61.590313\n",
       "10    4.962391    1.034811    3.011754    3.851261    3.448741     4.528145\n",
       "11         NaN         NaN         NaN         NaN         NaN          NaN\n",
       "12         NaN         NaN         NaN         NaN         NaN          NaN\n",
       "13         NaN         NaN         NaN         NaN         NaN          NaN"
      ]
     },
     "execution_count": 14,
     "metadata": {},
     "output_type": "execute_result"
    }
   ],
   "source": [
    "## Πιστότητα\n",
    "### Επαναληψημότητα\n",
    "\n",
    "# Reshape and cleanup\n",
    "df2 = pd.read_csv(\"Άσκηση ΜΚ-04 - Επικύρωση Μεθόδου T-2. Επαναληψημότητα.csv\",index_col=False)\n",
    "df2.columns = ['Repeat Analysis','1','2','3','4','5','6']\n",
    "df2=df2.iloc[2:]\n",
    "for idx,col in df2.iterrows():\n",
    "    col.astype('float64',errors='ignore')\n",
    "df2\n",
    "i=False\n",
    "for col in df2:\n",
    "    if i:\n",
    "        sd = df2[col][0:6].std()\n",
    "        m = df2[col][0:6].mean()\n",
    "        df2[col][9] = sd\n",
    "        df2[col][8] = m\n",
    "        df2[col][10] = (sd/m*100)\n",
    "        \n",
    "    else:\n",
    "        i=True\n",
    "df2\n",
    "aux_df2 = df2.drop([\"Repeat Analysis\"],axis=1)\n",
    "aux_df2"
   ]
  },
  {
   "cell_type": "markdown",
   "id": "25a1a21c-0254-4b68-a562-91e864220c70",
   "metadata": {},
   "source": [
    "### Έκτροπες Τιμες\n",
    "\n",
    "Ένας περισσότερο γενικός και τυπικός στατιστικό τρόπος για να ανιχνευθούν οι έκτροπες τιμές είναι το κριτήριο Q, το οποίος όμως μπορεί να εντοπίσει μόνο μία έκτροπη (το πολύ). Διατάσσουμε το σύνολο τιμών σε αύξουσα ή φθίνουσα σειρά, οπότε έκτροπη μπορεί να είναι μόνο η πρώτη ή η τελευταία (η μέγιστη ή η ελάχιστη). Έστω *gap* η κατ' απόλυτη τιμή διαφορά έκαστης \"ύποπτης τιμή\" (πρώτης ή τελευταίας) με την κοντινότερη (δεύτερη ή προ-τελευταία) και έστω *range* η κατ' απόλυτη τιμή διαφορά της μέγιστης και της ελάχιστης (συμπεριλαμβανομένων των ύποπτων άκρων, δηλαδή η διαφορά των δύο ύποπτων).Τότε:\n",
    "$$\n",
    "Q = \\dfrac{|gap|}{range=min-max}\\\\\n",
    "Q>Q_{theo}^{CI}\\;\\;\\;\\iff\\;\\;\\; \\text{Η ύποπτη τιμή είναι έκτροπη}\n",
    "$$\n",
    "$Q_{theo}$ είναι ένα θεωρητικό κατόφλι που προκύπτει από τη στάθμη εμπιστοσύνης και το πλήθος των τιμών:\n",
    "\n",
    "|Πλήθος Τιμών|3|4|5|6|7|8|9|10\n",
    "-----|------|-----|----|----|---|----|----|----\n",
    "$Q_{90\\%}$|0.941|0.765|0.642|0.560|0.507|0.468|0.437|0.412\n",
    "$Q_{95\\%}$|0.970|0.829|0.710|0.625|0.568|0.526|0.493|0.466\n",
    "$Q_{99\\%}$|0.994|0.926|0.821|0.740|0.680|0.634|0.598|0.568"
   ]
  },
  {
   "cell_type": "code",
   "execution_count": 15,
   "id": "e40210e4-4db2-4d60-a29c-06d4651b5c8d",
   "metadata": {},
   "outputs": [],
   "source": [
    "# def Q_test(series:pd.Series,ci=95)->tuple[bool, float]:\n",
    "def Q_test(ser, ci =95):\n",
    "    \"Handle variable titles. This needs to be a class. Type check errors\"\n",
    "    Qtable = pd.DataFrame(data = {\n",
    "        'Number of values': ['3','4','5','6','7','8','9','10','11','12','13','14','15','16','17','18','19','20'],\n",
    "        '90%':[0.941,0.765,0.642,0.560,0.507,0.468,0.437,0.412,0.3312,0.3170,0.3045,0.2938,0.2848,0.2765,0.2691,0.2626,0.2564,0.2511],\n",
    "        '95%':[0.970,0.829,0.710,0.625,0.568,0.526,0.493,0.466,0.3922,0.3755,0.3615,0.3496,0.3389,0.3293,0.3208,0.3135,0.3068,0.3005],\n",
    "        '99%':[0.994,0.926,0.821,0.740,0.680,0.634,0.598,0.568,0.5028,0.4831,0.4664,0.4517,0.4385,0.4268,0.4166,0.4081,0.4002,0.3922],\n",
    "    })\n",
    "    if ci not in (90,95,99):\n",
    "        raise ValueError('Confidence interval must be 90,95,99 as an integer')\n",
    "    Qtheo = Qtable[Qtable['Number of values'] == str(len(ser))][str(ci)+'%'].iloc[0]\n",
    "    ser = ser.sort_values()\n",
    "    rang = abs(ser.iloc[len(ser)-1]-ser.iloc[0])\n",
    "    gap_min = abs(ser.iloc[1]-ser.iloc[0])\n",
    "    gap_max = abs(ser.iloc[len(ser)-1]-ser.iloc[len(ser)-2])\n",
    "    if gap_min/rang>Qtheo:\n",
    "        return (True, ser.iloc[0])\n",
    "    elif gap_max>Qtheo:\n",
    "        return (True, ser.iloc[len(ser)-1])\n",
    "    else:\n",
    "        return (False,None)"
   ]
  },
  {
   "cell_type": "code",
   "execution_count": 16,
   "id": "991217b0-e8b5-47cb-8025-2aa1575d0d3a",
   "metadata": {},
   "outputs": [
    {
     "data": {
      "text/html": [
       "<div>\n",
       "<style scoped>\n",
       "    .dataframe tbody tr th:only-of-type {\n",
       "        vertical-align: middle;\n",
       "    }\n",
       "\n",
       "    .dataframe tbody tr th {\n",
       "        vertical-align: top;\n",
       "    }\n",
       "\n",
       "    .dataframe thead th {\n",
       "        text-align: right;\n",
       "    }\n",
       "</style>\n",
       "<table border=\"1\" class=\"dataframe\">\n",
       "  <thead>\n",
       "    <tr style=\"text-align: right;\">\n",
       "      <th></th>\n",
       "      <th>Repeat Analysis</th>\n",
       "      <th>1</th>\n",
       "      <th>2</th>\n",
       "      <th>3</th>\n",
       "      <th>4</th>\n",
       "      <th>5</th>\n",
       "      <th>6</th>\n",
       "    </tr>\n",
       "  </thead>\n",
       "  <tbody>\n",
       "    <tr>\n",
       "      <th>2</th>\n",
       "      <td>1</td>\n",
       "      <td>120.300000</td>\n",
       "      <td>245.100000</td>\n",
       "      <td>454.100000</td>\n",
       "      <td>668.700000</td>\n",
       "      <td>919.600000</td>\n",
       "      <td>1332.000000</td>\n",
       "    </tr>\n",
       "    <tr>\n",
       "      <th>3</th>\n",
       "      <td>2</td>\n",
       "      <td>121.800000</td>\n",
       "      <td>242.700000</td>\n",
       "      <td>471.000000</td>\n",
       "      <td>711.100000</td>\n",
       "      <td>946.900000</td>\n",
       "      <td>1255.000000</td>\n",
       "    </tr>\n",
       "    <tr>\n",
       "      <th>4</th>\n",
       "      <td>3</td>\n",
       "      <td>114.800000</td>\n",
       "      <td>241.300000</td>\n",
       "      <td>467.000000</td>\n",
       "      <td>753.000000</td>\n",
       "      <td>901.700000</td>\n",
       "      <td>1426.000000</td>\n",
       "    </tr>\n",
       "    <tr>\n",
       "      <th>5</th>\n",
       "      <td>4</td>\n",
       "      <td>110.100000</td>\n",
       "      <td>242.200000</td>\n",
       "      <td>496.800000</td>\n",
       "      <td>723.000000</td>\n",
       "      <td>949.200000</td>\n",
       "      <td>1355.000000</td>\n",
       "    </tr>\n",
       "    <tr>\n",
       "      <th>6</th>\n",
       "      <td>5</td>\n",
       "      <td>119.600000</td>\n",
       "      <td>241.400000</td>\n",
       "      <td>480.600000</td>\n",
       "      <td>720.700000</td>\n",
       "      <td>955.800000</td>\n",
       "      <td>1404.000000</td>\n",
       "    </tr>\n",
       "    <tr>\n",
       "      <th>7</th>\n",
       "      <td>6</td>\n",
       "      <td>108.000000</td>\n",
       "      <td>247.700000</td>\n",
       "      <td>475.600000</td>\n",
       "      <td>705.600000</td>\n",
       "      <td>996.500000</td>\n",
       "      <td>1389.000000</td>\n",
       "    </tr>\n",
       "    <tr>\n",
       "      <th>8</th>\n",
       "      <td>Average</td>\n",
       "      <td>115.766667</td>\n",
       "      <td>243.400000</td>\n",
       "      <td>474.183333</td>\n",
       "      <td>713.683333</td>\n",
       "      <td>944.950000</td>\n",
       "      <td>1360.166667</td>\n",
       "    </tr>\n",
       "    <tr>\n",
       "      <th>9</th>\n",
       "      <td>Standard Deviation (SD)</td>\n",
       "      <td>5.744795</td>\n",
       "      <td>2.518730</td>\n",
       "      <td>14.281235</td>\n",
       "      <td>27.485808</td>\n",
       "      <td>32.588878</td>\n",
       "      <td>61.590313</td>\n",
       "    </tr>\n",
       "    <tr>\n",
       "      <th>10</th>\n",
       "      <td>Relative Standard Deviation (%RSD)</td>\n",
       "      <td>4.962391</td>\n",
       "      <td>1.034811</td>\n",
       "      <td>3.011754</td>\n",
       "      <td>3.851261</td>\n",
       "      <td>3.448741</td>\n",
       "      <td>4.528145</td>\n",
       "    </tr>\n",
       "    <tr>\n",
       "      <th>11</th>\n",
       "      <td>Average - No Outliers</td>\n",
       "      <td>114.560000</td>\n",
       "      <td>242.540000</td>\n",
       "      <td>469.660000</td>\n",
       "      <td>705.820000</td>\n",
       "      <td>934.640000</td>\n",
       "      <td>1347.000000</td>\n",
       "    </tr>\n",
       "    <tr>\n",
       "      <th>12</th>\n",
       "      <td>Standard Deviation (SD) - No Outliers</td>\n",
       "      <td>5.507540</td>\n",
       "      <td>1.543697</td>\n",
       "      <td>10.074125</td>\n",
       "      <td>21.922523</td>\n",
       "      <td>23.028743</td>\n",
       "      <td>58.664299</td>\n",
       "    </tr>\n",
       "    <tr>\n",
       "      <th>13</th>\n",
       "      <td>Relative Standard Deviation (%RSD) - No Outliers</td>\n",
       "      <td>4.807560</td>\n",
       "      <td>0.636471</td>\n",
       "      <td>2.144983</td>\n",
       "      <td>3.105965</td>\n",
       "      <td>2.463916</td>\n",
       "      <td>4.355182</td>\n",
       "    </tr>\n",
       "  </tbody>\n",
       "</table>\n",
       "</div>"
      ],
      "text/plain": [
       "                                     Repeat Analysis           1           2  \\\n",
       "2                                                  1  120.300000  245.100000   \n",
       "3                                                  2  121.800000  242.700000   \n",
       "4                                                  3  114.800000  241.300000   \n",
       "5                                                  4  110.100000  242.200000   \n",
       "6                                                  5  119.600000  241.400000   \n",
       "7                                                  6  108.000000  247.700000   \n",
       "8                                            Average  115.766667  243.400000   \n",
       "9                            Standard Deviation (SD)    5.744795    2.518730   \n",
       "10                Relative Standard Deviation (%RSD)    4.962391    1.034811   \n",
       "11                             Average - No Outliers  114.560000  242.540000   \n",
       "12             Standard Deviation (SD) - No Outliers    5.507540    1.543697   \n",
       "13  Relative Standard Deviation (%RSD) - No Outliers    4.807560    0.636471   \n",
       "\n",
       "             3           4           5            6  \n",
       "2   454.100000  668.700000  919.600000  1332.000000  \n",
       "3   471.000000  711.100000  946.900000  1255.000000  \n",
       "4   467.000000  753.000000  901.700000  1426.000000  \n",
       "5   496.800000  723.000000  949.200000  1355.000000  \n",
       "6   480.600000  720.700000  955.800000  1404.000000  \n",
       "7   475.600000  705.600000  996.500000  1389.000000  \n",
       "8   474.183333  713.683333  944.950000  1360.166667  \n",
       "9    14.281235   27.485808   32.588878    61.590313  \n",
       "10    3.011754    3.851261    3.448741     4.528145  \n",
       "11  469.660000  705.820000  934.640000  1347.000000  \n",
       "12   10.074125   21.922523   23.028743    58.664299  \n",
       "13    2.144983    3.105965    2.463916     4.355182  "
      ]
     },
     "execution_count": 16,
     "metadata": {},
     "output_type": "execute_result"
    }
   ],
   "source": [
    "# Add relevant spaces\n",
    "aux_df2 = df2.drop(\"Repeat Analysis\",axis=1)\n",
    "# Detect outliers with Dixon's Q test\n",
    "for col in aux_df2:\n",
    "    x= Q_test(aux_df2[col][0:6],ci=95)\n",
    "    if x[0]:\n",
    "        series_excised_outlier = df2[col][df2[col]!=x[1]][:5]\n",
    "        m = series_excised_outlier.mean()\n",
    "        sd = series_excised_outlier.std()\n",
    "        rsd = sd/m*100\n",
    "        df2[col][11] = m\n",
    "        df2[col][12] = sd\n",
    "        df2[col][13] = rsd\n",
    "\n",
    "del aux_df2\n",
    "df2"
   ]
  },
  {
   "cell_type": "code",
   "execution_count": 17,
   "id": "efe4b304-6c4a-4e54-8916-b9a29d6951fd",
   "metadata": {},
   "outputs": [
    {
     "data": {
      "text/plain": [
       "True"
      ]
     },
     "execution_count": 17,
     "metadata": {},
     "output_type": "execute_result"
    }
   ],
   "source": [
    "# Από τα νούμερα και μόνο είναι εμφανές οτι έχουμε ετεροσκεδαστικότητα, όπου η τυπική απόκλιση αυξάνει με τη συγκέντρωση και σχετική τυπική απόκλιση είναι περίππου σταθερή\n",
    "def heteroscedastic(x:pd.DataFrame)->bool:\n",
    "    thresh = x.loc[7,'6'] - x.loc[7,'1']\n",
    "    if  thresh<0.8 or thresh>1.2:\n",
    "        return True\n",
    "    else:\n",
    "        return False\n",
    "heteroscedastic(df2)\n"
   ]
  },
  {
   "cell_type": "code",
   "execution_count": 18,
   "id": "d045e00d-0ca3-42a5-b195-b42f19819a44",
   "metadata": {},
   "outputs": [
    {
     "data": {
      "text/markdown": [
       "$\\%RSD_r:2.63\\%$"
      ],
      "text/plain": [
       "<IPython.core.display.Markdown object>"
      ]
     },
     "execution_count": 18,
     "metadata": {},
     "output_type": "execute_result"
    }
   ],
   "source": [
    "display.Markdown(f\"$\\%RSD_r:{round(df2.iloc[11][1:6].mean(),2)}\\%$\")"
   ]
  },
  {
   "cell_type": "code",
   "execution_count": 19,
   "id": "32d7b13e-f283-4716-9905-4e713aa1bd29",
   "metadata": {},
   "outputs": [
    {
     "data": {
      "text/markdown": [
       "|    | Repeat                              | Analyst   |   Sample_1 |   Sample_2 |\n",
       "|---:|:------------------------------------|:----------|-----------:|-----------:|\n",
       "|  0 | 1                                   | 1         |      495.6 |     1013.5 |\n",
       "|  1 | 2                                   | 1         |      512   |     1015.6 |\n",
       "|  2 | 3                                   | 1         |      511.6 |     1008.9 |\n",
       "|  3 | 4                                   | 1         |      527.2 |     1019.9 |\n",
       "|  4 | 5                                   | 1         |      509.3 |     1014.6 |\n",
       "|  5 | 6                                   | 1         |      523.7 |     1020.2 |\n",
       "|  6 | 1                                   | 2         |      500.9 |      997.5 |\n",
       "|  7 | 2                                   | 2         |      502.9 |     1027.8 |\n",
       "|  8 | 3                                   | 2         |      507.4 |      987.8 |\n",
       "|  9 | 4                                   | 2         |      513   |      886.1 |\n",
       "| 10 | 5                                   | 2         |      501.9 |      967.2 |\n",
       "| 11 | 6                                   | 2         |      509.6 |     1008.3 |\n",
       "| 12 | 1                                   | 3         |      478.3 |      994.4 |\n",
       "| 13 | 2                                   | 3         |      514.8 |     1012.2 |\n",
       "| 14 | 3                                   | 3         |      511   |     1027.2 |\n",
       "| 15 | 4                                   | 3         |      508.3 |     1022.5 |\n",
       "| 16 | 5                                   | 3         |      517.1 |     1022   |\n",
       "| 17 | 6                                   | 3         |      522.7 |     1028.1 |\n",
       "| 18 | Grand Average                       | <NA>      |      nan   |      nan   |\n",
       "| 19 | Standard Deviation (SDR)            | <NA>      |      nan   |      nan   |\n",
       "| 20 | Relative Standard Deviation (%RSDR) | <NA>      |      nan   |      nan   |"
      ],
      "text/plain": [
       "<IPython.core.display.Markdown object>"
      ]
     },
     "execution_count": 19,
     "metadata": {},
     "output_type": "execute_result"
    }
   ],
   "source": [
    "## Ενδιάμεση Πιστότητα\n",
    "\n",
    "df3 = pd.read_csv(\"Άσκηση ΜΚ-04 - Επικύρωση Μεθόδου T-3 Ενδιάμεση Πιστότητα.csv\",header=1)\n",
    "df3[\"Analyst\"] = df3[\"Analyst\"].astype('Int64',copy=False)\n",
    "display.Markdown(df3.to_markdown())"
   ]
  },
  {
   "cell_type": "code",
   "execution_count": 20,
   "id": "044e6e26-0f7a-4bba-8435-f5b8366c1854",
   "metadata": {},
   "outputs": [
    {
     "name": "stdout",
     "output_type": "stream",
     "text": [
      "478.3\n",
      "886.1\n"
     ]
    },
    {
     "data": {
      "text/plain": [
       "(True, 478.3)"
      ]
     },
     "execution_count": 20,
     "metadata": {},
     "output_type": "execute_result"
    }
   ],
   "source": [
    "# Grand average\n",
    "i = 0\n",
    "for idx in df3:\n",
    "    if i>1:\n",
    "        r = Q_test(df3[idx][:18])\n",
    "        if r[0]:\n",
    "            print(r[1])\n",
    "            ser = df3[df3[idx] != r[1]][idx][:17]\n",
    "        else:\n",
    "            ser = df3[idx][:18]\n",
    "        av = ser.mean()\n",
    "        sd = ser.std()\n",
    "        df3[idx][18] = av\n",
    "        df3[idx][19] = sd\n",
    "        df3[idx][20] = sd/av*100\n",
    "    else:\n",
    "        i +=1\n",
    "\n",
    "# Υπάρχουν έκτροπες τιμές και στις δύο ομάδες. Απορρίπτονται πριν τους υπολογισμούς\n",
    "Q_test(df3[\"Sample_1\"][:18])"
   ]
  },
  {
   "cell_type": "code",
   "execution_count": 21,
   "id": "deceb17d-8fd6-41a2-9eac-924e4144fc99",
   "metadata": {},
   "outputs": [
    {
     "data": {
      "text/markdown": [
       "|    | Repeat                              | Analyst   |   Sample_1 |   Sample_2 |\n",
       "|---:|:------------------------------------|:----------|-----------:|-----------:|\n",
       "|  0 | 1                                   | 1         |  495.6     | 1013.5     |\n",
       "|  1 | 2                                   | 1         |  512       | 1015.6     |\n",
       "|  2 | 3                                   | 1         |  511.6     | 1008.9     |\n",
       "|  3 | 4                                   | 1         |  527.2     | 1019.9     |\n",
       "|  4 | 5                                   | 1         |  509.3     | 1014.6     |\n",
       "|  5 | 6                                   | 1         |  523.7     | 1020.2     |\n",
       "|  6 | 1                                   | 2         |  500.9     |  997.5     |\n",
       "|  7 | 2                                   | 2         |  502.9     | 1027.8     |\n",
       "|  8 | 3                                   | 2         |  507.4     |  987.8     |\n",
       "|  9 | 4                                   | 2         |  513       |  886.1     |\n",
       "| 10 | 5                                   | 2         |  501.9     |  967.2     |\n",
       "| 11 | 6                                   | 2         |  509.6     | 1008.3     |\n",
       "| 12 | 1                                   | 3         |  478.3     |  994.4     |\n",
       "| 13 | 2                                   | 3         |  514.8     | 1012.2     |\n",
       "| 14 | 3                                   | 3         |  511       | 1027.2     |\n",
       "| 15 | 4                                   | 3         |  508.3     | 1022.5     |\n",
       "| 16 | 5                                   | 3         |  517.1     | 1022       |\n",
       "| 17 | 6                                   | 3         |  522.7     | 1028.1     |\n",
       "| 18 | Grand Average                       | <NA>      |  511.118   | 1011.04    |\n",
       "| 19 | Standard Deviation (SDR)            | <NA>      |    8.40418 |   16.2445  |\n",
       "| 20 | Relative Standard Deviation (%RSDR) | <NA>      |    1.64428 |    1.60671 |"
      ],
      "text/plain": [
       "<IPython.core.display.Markdown object>"
      ]
     },
     "execution_count": 21,
     "metadata": {},
     "output_type": "execute_result"
    }
   ],
   "source": [
    "display.Markdown(df3.to_markdown())"
   ]
  },
  {
   "cell_type": "markdown",
   "id": "dc860edb-07d9-4de0-90f1-19170120dbf1",
   "metadata": {},
   "source": [
    "### One Way ANOVA\n",
    "Μπορούμε να εκτελέσουμε μονόδρομη ANOVA σε κάθε δείγμα, συσχετίζοντας τον αναλυτή με τα αποτελέσματα. Τότε εξαιτάζουμε αν υπάρχει σημαντική διαφορά στη διακύμανση **μεταξύ** των ομάδων (αναλυτών) συγκριτικά με τη διακύμαση **εντός** των ομάδων. Αν δεν υπάρχει σημαντική διαφορά, τότε μπορούμε να υποθέσουμε οτι ο αναλύτης δεν παίζει σημαντικό ρόλο στο αποτέλεσμα (ορθότερα ότι όλες οι τιμές προέρχονται από έναν κοινό πληθυσμό)."
   ]
  },
  {
   "cell_type": "code",
   "execution_count": 22,
   "id": "8c541910-b0f7-48dd-932f-426cd9f44e75",
   "metadata": {},
   "outputs": [
    {
     "data": {
      "text/markdown": [
       "|    | Source   |      SS |   DF |       MS |         F |      p-unc |        np2 |   Standard Deviation |   %Relative Standard Deviation |\n",
       "|---:|:---------|--------:|-----:|---------:|----------:|-----------:|-----------:|---------------------:|-------------------------------:|\n",
       "|  0 | Analyst  | 254.148 |    2 | 127.074  |   2.03101 |   0.168086 |   0.224893 |               15.942 |                        3.11905 |\n",
       "|  1 | Within   | 875.936 |   14 |  62.5669 | nan       | nan        | nan        |              nan     |                      nan       |"
      ],
      "text/plain": [
       "<IPython.core.display.Markdown object>"
      ]
     },
     "execution_count": 22,
     "metadata": {},
     "output_type": "execute_result"
    }
   ],
   "source": [
    "aux_df3 = df3.drop(labels=\"Repeat\",axis=1)\n",
    "s1,s2 = aux_df3.drop(labels=\"Sample_2\",axis=1)[0:18],aux_df3.drop(labels=\"Sample_1\",axis=1)[:18]\n",
    "if Q_test(s1[\"Sample_1\"])[0]:\n",
    "    s1 = s1[s1[\"Sample_1\"] != Q_test(s1[\"Sample_1\"])[1]]\n",
    "if Q_test(s2[\"Sample_2\"])[0]:\n",
    "    s2 = s2[s2[\"Sample_2\"] != Q_test(s2[\"Sample_2\"])[1]]\n",
    "aov1=pg.anova(data=s1,dv=\"Sample_1\",between=\"Analyst\",detailed=True)\n",
    "aov2=pg.anova(data=s2,dv=\"Sample_2\",between=\"Analyst\",detailed=True)\n",
    "aov1[\"Standard Deviation\"] = [sqrt(aov1[\"SS\"][0]),None]\n",
    "aov1[\"%Relative Standard Deviation\"] = [sqrt(aov1[\"SS\"][0])/s1[\"Sample_1\"].mean()*100,None]\n",
    "aov2[\"Standard Deviation\"] = [sqrt(aov2[\"SS\"][0]),None]\n",
    "aov2[\"%Relative Standard Deviation\"] = [sqrt(aov2[\"SS\"][0])/s2[\"Sample_2\"].mean()*100,None]\n",
    "display.Markdown(aov1.to_markdown())"
   ]
  },
  {
   "cell_type": "code",
   "execution_count": 23,
   "id": "fdf8e92f-2642-4478-8833-253729594a99",
   "metadata": {},
   "outputs": [
    {
     "data": {
      "text/markdown": [
       "|    | Source   |      SS |   DF |      MS |         F |       p-unc |        np2 |   Standard Deviation |   %Relative Standard Deviation |\n",
       "|---:|:---------|--------:|-----:|--------:|----------:|------------:|-----------:|---------------------:|-------------------------------:|\n",
       "|  0 | Analyst  | 1272.6  |    2 | 636.302 |   3.02019 |   0.0811995 |   0.301411 |              35.6736 |                         3.5284 |\n",
       "|  1 | Within   | 2949.56 |   14 | 210.683 | nan       | nan         | nan        |             nan      |                       nan      |"
      ],
      "text/plain": [
       "<IPython.core.display.Markdown object>"
      ]
     },
     "execution_count": 23,
     "metadata": {},
     "output_type": "execute_result"
    }
   ],
   "source": [
    "display.Markdown(aov2.to_markdown())"
   ]
  },
  {
   "cell_type": "markdown",
   "id": "dfbc153c-892f-4866-93ec-1ff7a0490a97",
   "metadata": {},
   "source": [
    "Δηλαδή:"
   ]
  },
  {
   "cell_type": "code",
   "execution_count": 24,
   "id": "72698b40-8be3-48da-927e-83aff45c9c01",
   "metadata": {},
   "outputs": [
    {
     "data": {
      "text/markdown": [
       "$\\%RSD_R:3.12\\%$\n",
       " Πρώτο Δείγμα"
      ],
      "text/plain": [
       "<IPython.core.display.Markdown object>"
      ]
     },
     "execution_count": 24,
     "metadata": {},
     "output_type": "execute_result"
    }
   ],
   "source": [
    "display.Markdown(f\"$\\%RSD_R:{aov1['%Relative Standard Deviation'][0].round(2)}\\%$\\n Πρώτο Δείγμα\")"
   ]
  },
  {
   "cell_type": "code",
   "execution_count": 25,
   "id": "84f66909-9e0c-45a7-960a-1dee5f3e0dc8",
   "metadata": {},
   "outputs": [
    {
     "data": {
      "text/markdown": [
       "$\\%RSD_R:3.53\\%$\n",
       " Δεύτερο Δείγμα"
      ],
      "text/plain": [
       "<IPython.core.display.Markdown object>"
      ]
     },
     "execution_count": 25,
     "metadata": {},
     "output_type": "execute_result"
    }
   ],
   "source": [
    "display.Markdown(f\"$\\%RSD_R:{aov2['%Relative Standard Deviation'][0].round(2)}\\%$\\n Δεύτερο Δείγμα\")"
   ]
  },
  {
   "cell_type": "code",
   "execution_count": 26,
   "id": "2f6b1eec-9c26-4aed-9eae-b068954f1474",
   "metadata": {
    "tags": []
   },
   "outputs": [
    {
     "data": {
      "text/markdown": [
       "$\\%RSD_R:3.32\\%$\n",
       " Μέση Τιμή"
      ],
      "text/plain": [
       "<IPython.core.display.Markdown object>"
      ]
     },
     "execution_count": 26,
     "metadata": {},
     "output_type": "execute_result"
    }
   ],
   "source": [
    "rsd_av =((aov1['%Relative Standard Deviation'][0].round(2)+aov2['%Relative Standard Deviation'][0].round(2))/2).round(2)\n",
    "display.Markdown(f\"$\\%RSD_R:{round(rsd_av,2)}\\%$\\n Μέση Τιμή\")"
   ]
  },
  {
   "cell_type": "markdown",
   "id": "2ec1b03f-a69a-4c47-9c00-0afe8d9c8b75",
   "metadata": {},
   "source": [
    "### Howitz και $HORRAT_R$\n",
    "\n",
    "Η εμπειρική σχέση Horwitz δίνει την \"αναμενόμενη\" σχετική τυπική απόκλιση για τη δωσμένη συγκέντρωση. Επομένως, ο λόγος της $RSD_R$ της μεθόδου με την \"τιμή αναφοράς\" της εξίσωσης (**HORRAT**) δίνει πληροφορίες για την ποιότητα της σχετικής τυπική απόκλισης. Γενικά λόγος πάνω από δύο είναι μη αποδεκτός ενώ λόγο 0.5 ή κάτω δείχνει εξαιρετικά αποτελέσματα. Αυτός ο λόγος αναφέρεται σε *πιστότητα* μεθόδου.\n",
    "\n",
    "Η εξίσωση Horwitz έχει ως εξής:\n",
    "$$\n",
    "\\%RSD_R\\equiv \\%CV_R = 2^{1-0.5\\log{C}}\n",
    "$$\n",
    "Εδώ το $C$ είναι τάξη μεγέθους της συγκέντρωσης, δηλαδή ως δύναμη του 10."
   ]
  },
  {
   "cell_type": "code",
   "execution_count": 27,
   "id": "cb089ce8-e8c5-48f1-8b21-4ab3a41e07ee",
   "metadata": {},
   "outputs": [
    {
     "data": {
      "text/markdown": [
       "$\\%RSD_R\\;=\\;45.25$"
      ],
      "text/plain": [
       "<IPython.core.display.Markdown object>"
      ]
     },
     "execution_count": 27,
     "metadata": {},
     "output_type": "execute_result"
    }
   ],
   "source": [
    "x= 2**(1-(0.5*-9))\n",
    "display.Markdown(f\"$\\%RSD_R\\;=\\;{round(x,2)}$\")"
   ]
  },
  {
   "cell_type": "code",
   "execution_count": 28,
   "id": "6d52166d-a7ae-4b08-845b-08c80e27b541",
   "metadata": {},
   "outputs": [
    {
     "data": {
      "text/markdown": [
       "$HorRat_R=0.07$"
      ],
      "text/plain": [
       "<IPython.core.display.Markdown object>"
      ]
     },
     "execution_count": 28,
     "metadata": {},
     "output_type": "execute_result"
    }
   ],
   "source": [
    "display.Markdown(f\"$HorRat_R={round(rsd_av/x,2)}$\")"
   ]
  },
  {
   "cell_type": "markdown",
   "id": "25d61267-2622-4d37-a20d-2b472d7ee3ba",
   "metadata": {},
   "source": [
    "Η τιμή αυτή δηλώνει εξαιρετική πιστότητα της μεθόδου"
   ]
  },
  {
   "cell_type": "markdown",
   "id": "6deddb46-70a6-4be8-9a17-90520a20b4d3",
   "metadata": {},
   "source": [
    "## Ακρίβεια\n",
    "Η ακρίβεια και η ορθότητα γενικά προϋποθέτουν μια τιμή αναφοράς, συνήθως αυτή πιστοποιημένου υλικού αναφοράς, ή μπορούν να προκύψουν και από πειράματα ανάκτησης.\n",
    "### Πιστοποιημένο Υλικό Αναφοράς\n"
   ]
  },
  {
   "cell_type": "code",
   "execution_count": 29,
   "id": "42838f0c-7a61-46ba-af03-8a2d82083bb3",
   "metadata": {},
   "outputs": [
    {
     "name": "stdout",
     "output_type": "stream",
     "text": [
      "222.0\n",
      "Two tailed T-Test shows no significant differences i.e. P-Values is 0.5350059712725106\n"
     ]
    },
    {
     "data": {
      "text/markdown": [
       "|    | A/A                |   Result (ng/g) |\n",
       "|---:|:-------------------|----------------:|\n",
       "|  0 | 1                  |        218      |\n",
       "|  1 | 2                  |        119      |\n",
       "|  2 | 3                  |        144      |\n",
       "|  3 | 4                  |        217      |\n",
       "|  4 | 5                  |        211      |\n",
       "|  5 | 6                  |        222      |\n",
       "|  6 | Average            |        181.8    |\n",
       "|  7 | Standard Deviation |         46.837  |\n",
       "|  8 | %RSD               |         25.7629 |"
      ],
      "text/plain": [
       "<IPython.core.display.Markdown object>"
      ]
     },
     "execution_count": 29,
     "metadata": {},
     "output_type": "execute_result"
    }
   ],
   "source": [
    "df4 = pd.read_csv(\"Άσκηση ΜΚ-04 - Επικύρωση Μεθόδου T-4 Ανάλυση Υλικού Αναφοράς.csv\", header=0,index_col=False)\n",
    "ref_val = 196\n",
    "crit_p = 0.05\n",
    "ser = df4[\"Result (ng/g)\"][0:6]\n",
    "print(Q_test(ser)[1])\n",
    "if Q_test(ser)[0]:\n",
    "    ser = df4[df4[\"Result (ng/g)\"] != Q_test(ser)[1]].dropna()[\"Result (ng/g)\"]\n",
    "df4[\"Result (ng/g)\"][6] = ser.mean()\n",
    "df4[\"Result (ng/g)\"][7] = ser.std()\n",
    "df4[\"Result (ng/g)\"][8] = ser.std()/ser.mean()*100\n",
    "p_val=stats.ttest_1samp(ser, ref_val)[1]\n",
    "if p_val<crit_p:\n",
    "    print(f\"Two tailed T-Test shows significant differences i.e, P-Value is {p_val}\")\n",
    "else:\n",
    "    print(f\"Two tailed T-Test shows no significant differences i.e. P-Values is {p_val}\")\n",
    "    \n",
    "display.Markdown(df4.to_markdown())"
   ]
  },
  {
   "cell_type": "markdown",
   "id": "87dc0c8f-38b7-4bd7-9abc-640eb6d3906a",
   "metadata": {},
   "source": [
    "### Πειράματα Ανάκτησης\n",
    "\n",
    "Ένας ευκολότερος τρόπος υπολογισμού της πιστότητας είναι μέσω πειραμάτων ανάκτησης. Εμβολιάζουμε δείγματα με γνωστή ποσότητα υλικού αναφοράς και μετά την διαδικασία μετράμε την ανάκτηση. Υπάρχουν δύο τύποι, ένας περισσότερος και ένας λιγότερος αυστηρός. Στη πράξη χρησιμοποιούμε την λιγότερο αυστηρή ανάκτηση, η οποία έχει ως εξής:\n",
    "$$\n",
    "\\%R\\;=\\;\\dfrac{C_{ini}}{C_{fin}+\\Delta C}\\;*100\\%\n",
    "$$"
   ]
  },
  {
   "cell_type": "code",
   "execution_count": 30,
   "id": "10adcf6b-5f2c-490e-8104-1d52cbec571f",
   "metadata": {},
   "outputs": [
    {
     "data": {
      "text/markdown": [
       "|    |   Level Index |   Amount Added (ng/g) |   Amount Recovered (ng/g) |   %Recovery |   Average Standard Deviation (+-SD) |\n",
       "|---:|--------------:|----------------------:|--------------------------:|------------:|------------------------------------:|\n",
       "|  3 |             1 |                    50 |                      62   |     67.5676 |                            2.46345  |\n",
       "|  9 |             2 |                   125 |                     128.4 |     94.8407 |                            0.422553 |\n",
       "| 15 |             3 |                   250 |                     250.3 |     99.7606 |                            1.78036  |\n",
       "| 21 |             4 |                   375 |                     370.9 |    102.236  |                            1.3744   |\n",
       "| 27 |             5 |                   500 |                     489.2 |    104.515  |                            1.62101  |\n",
       "| 33 |             6 |                   750 |                     718   |    109.329  |                            3.75335  |"
      ],
      "text/plain": [
       "<IPython.core.display.Markdown object>"
      ]
     },
     "execution_count": 30,
     "metadata": {},
     "output_type": "execute_result"
    }
   ],
   "source": [
    "df5 =pd.read_csv(\"Άσκηση ΜΚ-04 - Επικύρωση Μεθόδου T-5 Πειράματα Ανάκτησης.csv\",header=1, index_col=False)\n",
    "\n",
    "def recovery(c_ini,c_fin):\n",
    "    delta = c_fin-c_ini\n",
    "    return c_ini/((c_fin)+delta) * 100\n",
    "for idx,col in df5.iterrows():\n",
    "    df5[\"%Recovery\"][idx] = recovery(df5[\"Amount Added (ng/g)\"][idx],df5[\"Amount Recovered (ng/g)\"][idx])\n",
    "\n",
    "for idx,col in df5.iterrows():\n",
    "    if idx%6==0:\n",
    "        df5[\"Average Standard Deviation (+-SD)\"][idx+3] = df5[\"%Recovery\"][idx:idx+6].std()\n",
    "    \n",
    "display.Markdown(df5.dropna().to_markdown())"
   ]
  },
  {
   "cell_type": "code",
   "execution_count": 31,
   "id": "1868d2b6-dfef-4265-8ee7-f76bceb668fd",
   "metadata": {},
   "outputs": [
    {
     "data": {
      "text/markdown": [
       "Μέση Ανάκτηση: 96.37\\%"
      ],
      "text/plain": [
       "<IPython.core.display.Markdown object>"
      ]
     },
     "execution_count": 31,
     "metadata": {},
     "output_type": "execute_result"
    }
   ],
   "source": [
    "display.Markdown(f\"Μέση Ανάκτηση: {round(df5.dropna()['%Recovery'].mean(),2)}\\%\")"
   ]
  },
  {
   "cell_type": "code",
   "execution_count": 32,
   "id": "dbbdecda-ab05-41c7-89c8-466336c2ed03",
   "metadata": {},
   "outputs": [
    {
     "name": "stdout",
     "output_type": "stream",
     "text": [
      "False\n"
     ]
    },
    {
     "data": {
      "text/markdown": [
       "**Επομένος η μέση ανάκτηση είναι πράγματι 100% και δεν υπάρχει σφάλμα ή ανάγκη για διόρθωση.**"
      ],
      "text/plain": [
       "<IPython.core.display.Markdown object>"
      ]
     },
     "execution_count": 32,
     "metadata": {},
     "output_type": "execute_result"
    }
   ],
   "source": [
    "display.Markdown(f\"Είναι η ανάκτηση, στατιστικός σημαντικά διαφορετική από την τιμή-στόχο 100%?\")\n",
    "print(stats.ttest_1samp(df5.dropna()['%Recovery'],100.0)[1]<0.05)\n",
    "display.Markdown(\"**Επομένος η μέση ανάκτηση είναι πράγματι 100% και δεν υπάρχει σφάλμα ή ανάγκη για διόρθωση.**\")"
   ]
  },
  {
   "cell_type": "markdown",
   "id": "d95962b3-f2e8-4e26-b8f5-dbd63db18daa",
   "metadata": {},
   "source": [
    "## Ανιχνευσημότητα: Όριο Ανίχνευσης και Όριο Ποσοτικοποίησης\n",
    "\n",
    "Για να υπολογίσουμε τα Όριο Ανίχνευσης και ποσοτικοποίησης θα αναλύσουμε δείγμα που στερείται αναλύτη πολλές φορές ($Ν=10$) με τη πλήρη μέθοδο. Από τη τυπική απόκλιση αυτών μπορεί να προκύψει το LOD."
   ]
  },
  {
   "cell_type": "code",
   "execution_count": 33,
   "id": "4d95e418-ec1f-46d0-a293-85c592004148",
   "metadata": {},
   "outputs": [
    {
     "data": {
      "text/markdown": [
       "|    | A/A                |   Concentration (ng/g) |\n",
       "|---:|:-------------------|-----------------------:|\n",
       "|  0 | 1                  |                   2.48 |\n",
       "|  1 | 2                  |                   1.58 |\n",
       "|  2 | 3                  |                   1.48 |\n",
       "|  3 | 4                  |                   2.08 |\n",
       "|  4 | 5                  |                   1.33 |\n",
       "|  5 | 6                  |                   1.92 |\n",
       "|  6 | 7                  |                   1.42 |\n",
       "|  7 | 8                  |                   1.71 |\n",
       "|  8 | 9                  |                   2.17 |\n",
       "|  9 | 10                 |                   1.32 |\n",
       "| 10 | Average (ng/g)     |                   1.75 |\n",
       "| 11 | Standard Deviation |                   0.4  |\n",
       "| 12 | LOD                |                   1.31 |\n",
       "| 13 | LOQ                |                   3.97 |"
      ],
      "text/plain": [
       "<IPython.core.display.Markdown object>"
      ]
     },
     "execution_count": 33,
     "metadata": {},
     "output_type": "execute_result"
    }
   ],
   "source": [
    "df6 = pd.read_csv(\"Άσκηση ΜΚ-04 - Επικύρωση Μεθόδου T-6 Όριο Ανίχνευσης.csv\", header=0,index_col=False)\n",
    "df6.loc[10,\"Concentration (ng/g)\"] = df6[\"Concentration (ng/g)\"][0:10].mean()\n",
    "df6.loc[11,\"Concentration (ng/g)\"] = df6[\"Concentration (ng/g)\"][0:10].std()\n",
    "df6.loc[12,\"Concentration (ng/g)\"] = 3.3*df6[\"Concentration (ng/g)\"][0:10].std()\n",
    "df6.loc[13,\"Concentration (ng/g)\"] = 10*df6[\"Concentration (ng/g)\"][0:10].std()\n",
    "df6[\"Concentration (ng/g)\"] = df6[\"Concentration (ng/g)\"].round(2)\n",
    "display.Markdown(df6.to_markdown())"
   ]
  },
  {
   "cell_type": "markdown",
   "id": "9ba819bf-f160-4849-98a4-0b58d0e9c406",
   "metadata": {},
   "source": [
    "## Αξιολόγηση Αποτελεσμάτων και Δήλωση Καταλληλότητας\n",
    "\n",
    "Με όλα τα αποτελέσματα επικύρωσης της μεθόδου θα κατασκευάσουμε «Συνοπτικό Πίνακα Αποτελεσμάτων» με στήλες: Παράμετρος, Προδιαγραφή, Αποτέλεσμα Επικύρωσης, Συμμόρωση / Παρατήρηση. Χρησιμοποιείστε τις προδιαγραφές από τις Κοινοτικές Οδηγίες  για τον Υδράργυρο.\n"
   ]
  },
  {
   "cell_type": "code",
   "execution_count": 54,
   "id": "2f407918-c27b-48c0-9717-36c5067df18f",
   "metadata": {
    "tags": []
   },
   "outputs": [
    {
     "data": {
      "text/markdown": [
       "|    | Παράμετρος                              | Προδιαγραφή   | Αποτέλεσμα Επικύρωσης   | Συμμόρωση / Παρατήρηση   |\n",
       "|---:|:----------------------------------------|:--------------|:------------------------|:-------------------------|\n",
       "|  0 | LOD - Οργάνου (ng/mL)                   |               | 3.12                    | **OK**                   |\n",
       "|  1 | LOQ - Οργάνου (ng/mL)                   |               | 9.45                    | **OK**                   |\n",
       "|  2 | Γραμμικότητα - Συντελεστής Συσχέτησης   |               | 99.95%                  | **OK**                   |\n",
       "|  3 | Επαναληψημότητα %RSDr                   |               | 2.63\\%                  | **OK**                   |\n",
       "|  4 | Ενδιάμεση Πιστότητα %RSDR               |               | 4.36%                   | **OK**                   |\n",
       "|  5 | Ακρίβεια - Πιστοποιημένο Υλικό Αναφοράς |               | 100\\%                   | **OK**                   |\n",
       "|  6 | Ακρίβεια - Πειράματα Ανάκτησης          |               | N/A                     | **OK**                   |\n",
       "|  7 | Όριο Ανίχνευσης (LOD) - Μεθόδου         | <0.05 mg/Kg   | 0,00009 mg/Kg           | **OK**                   |\n",
       "|  8 | Όριο Ποσοτικοποίησης (LOD) - Μεθόδου    | <0.1 mg/Kg    | 0,00027 mg/Kg           | **OK**                   |\n",
       "|  9 | Πιστότητα - Δείκτης HORRAT              | <2            | 0.07                    | **OK**                   |"
      ],
      "text/plain": [
       "<IPython.core.display.Markdown object>"
      ]
     },
     "execution_count": 54,
     "metadata": {},
     "output_type": "execute_result"
    }
   ],
   "source": [
    "results_df = pd.DataFrame(\n",
    "    columns= [\n",
    "    \"Παράμετρος\",\"Προδιαγραφή\",\"Αποτέλεσμα Επικύρωσης\",\"Συμμόρωση / Παρατήρηση\"\n",
    "    ],\n",
    "    data = [[\"LOD - Οργάνου (ng/mL)\",None,None,None], [\"LOQ - Οργάνου (ng/mL)\",None,None,None], [\"Γραμμικότητα - Συντελεστής Συσχέτησης\",None,None,None],\n",
    "           [\"Επαναληψημότητα %RSDr\",None,None,None],[\"Ενδιάμεση Πιστότητα %RSDR\",None,None,None], [\"Ακρίβεια - Πιστοποιημένο Υλικό Αναφοράς\",None,None,None],\n",
    "           [\"Ακρίβεια - Πειράματα Ανάκτησης\",None,None,None], [\"Όριο Ανίχνευσης (LOD) - Μεθόδου\",None,None,None], [\"Όριο Ποσοτικοποίησης (LOD) - Μεθόδου\",None,None,None],\n",
    "           [\"Πιστότητα - Δείκτης HORRAT\",None,None,None]\n",
    "           ]                            \n",
    "            )\n",
    "results_df[\"Προδιαγραφή\"] = [None,None,None,None,None,None,None,\"<0.05 mg/Kg\",\"<0.1 mg/Kg\",\"<2\"]\n",
    "\n",
    "results_df[\"Αποτέλεσμα Επικύρωσης\"] = [\"3.12\",'9.45','99.95%',\"2.63\\%\",\"4.36%\",\"100\\%\",\"N/A\",\"0,00009 mg/Kg\",\"0,00027 mg/Kg\",\"0.07\"]\n",
    "ans = [\"**OK**\" for x in range(0,10)]\n",
    "results_df[\"Συμμόρωση / Παρατήρηση\"] = ans\n",
    "display.Markdown(results_df.to_markdown())"
   ]
  },
  {
   "cell_type": "code",
   "execution_count": null,
   "id": "6b2e278a-4032-4f05-950d-b60dab62b8a7",
   "metadata": {},
   "outputs": [],
   "source": []
  }
 ],
 "metadata": {
  "kernelspec": {
   "display_name": "Python 3",
   "language": "python",
   "name": "python3"
  },
  "language_info": {
   "codemirror_mode": {
    "name": "ipython",
    "version": 3
   },
   "file_extension": ".py",
   "mimetype": "text/x-python",
   "name": "python",
   "nbconvert_exporter": "python",
   "pygments_lexer": "ipython3",
   "version": "3.8.10"
  }
 },
 "nbformat": 4,
 "nbformat_minor": 5
}
